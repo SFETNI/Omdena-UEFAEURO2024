{
 "cells": [
  {
   "cell_type": "code",
   "execution_count": 54,
   "metadata": {},
   "outputs": [
    {
     "name": "stderr",
     "output_type": "stream",
     "text": [
      "/home/gbemike/anaconda3/lib/python3.11/site-packages/pandas/core/arrays/masked.py:60: UserWarning: Pandas requires version '1.3.6' or newer of 'bottleneck' (version '1.3.5' currently installed).\n",
      "  from pandas.core import (\n"
     ]
    }
   ],
   "source": [
    "import json\n",
    "import pandas as pd\n",
    "import requests\n",
    "from selenium import webdriver\n",
    "from selenium.webdriver.chrome.options import Options\n",
    "from selenium.webdriver.chrome.service import Service as ChromeService\n",
    "\n",
    "from webdriver_manager.chrome import ChromeDriverManager"
   ]
  },
  {
   "cell_type": "code",
   "execution_count": 25,
   "metadata": {},
   "outputs": [],
   "source": [
    "options = webdriver.ChromeOptions()\n",
    "\n",
    "options.set_capability(\n",
    "    'goog:loggingPrefs', \n",
    "    {\n",
    "        'performance': 'ALL', \n",
    "        'browser': 'ALL'\n",
    "        }\n",
    ")\n",
    "\n",
    "driver = webdriver.Chrome(options = options)\n",
    "driver.set_page_load_timeout(20)"
   ]
  },
  {
   "cell_type": "code",
   "execution_count": 26,
   "metadata": {},
   "outputs": [],
   "source": [
    "headers = {\n",
    "    'user-agent': 'Mozilla/5.0 (X11; Linux x86_64) AppleWebKit/537.36 (KHTML, like Gecko) Chrome/123.0.0.0 Safari/537.36'\n",
    "}"
   ]
  },
  {
   "cell_type": "code",
   "execution_count": 27,
   "metadata": {},
   "outputs": [],
   "source": [
    "matches = \"germany-scotland\"\n",
    "match_ids = \"VTbslUb\"\n",
    "\n",
    "match_df = []\n",
    "\n",
    "base_url = 'https://www.sofascore.com'\n",
    "\n",
    "# for match, match_id in zip(matches, match_ids):\n",
    "\n",
    "match_url = f'{base_url}/{matches}/{match_ids}'\n",
    "\n",
    "try:\n",
    "    driver.get(match_url)\n",
    "except:\n",
    "    pass\n",
    "\n",
    "driver.execute_script(\"window.scrollTo(0, document.body.scrollHeight);\")\n"
   ]
  },
  {
   "cell_type": "code",
   "execution_count": 28,
   "metadata": {},
   "outputs": [],
   "source": [
    "# gives all network responses/ all APIs being called\n",
    "logs_raw = driver.get_log('performance')"
   ]
  },
  {
   "cell_type": "code",
   "execution_count": 29,
   "metadata": {},
   "outputs": [],
   "source": [
    "logs = [json.loads(lr[\"message\"])[\"message\"] for lr in logs_raw]"
   ]
  },
  {
   "cell_type": "code",
   "execution_count": 30,
   "metadata": {},
   "outputs": [
    {
     "data": {
      "text/plain": [
       "{'method': 'Network.loadingFinished',\n",
       " 'params': {'encodedDataLength': 0,\n",
       "  'requestId': '54EC0E8DFA2994E8929F718B97DC5344',\n",
       "  'timestamp': 18003.839078}}"
      ]
     },
     "execution_count": 30,
     "metadata": {},
     "output_type": "execute_result"
    }
   ],
   "source": [
    "logs[0]"
   ]
  },
  {
   "cell_type": "code",
   "execution_count": 31,
   "metadata": {},
   "outputs": [
    {
     "name": "stdout",
     "output_type": "stream",
     "text": [
      "/api/v1/event/11873905/lineups\n"
     ]
    }
   ],
   "source": [
    "for x in logs:\n",
    "    if 'lineups' in x['params'].get('headers', {}).get(':path', ''):\n",
    "        print(x['params'].get('headers', {}).get(':path'))\n",
    "        break"
   ]
  },
  {
   "cell_type": "code",
   "execution_count": 32,
   "metadata": {},
   "outputs": [
    {
     "name": "stdout",
     "output_type": "stream",
     "text": [
      "/api/v1/event/11873905/lineups\n"
     ]
    }
   ],
   "source": [
    "print(x['params'].get('headers', {}).get(':path'))"
   ]
  },
  {
   "cell_type": "code",
   "execution_count": 81,
   "metadata": {},
   "outputs": [],
   "source": [
    "from urllib.parse import urljoin\n",
    "\n",
    "lineups_url = x['params'].get('headers', {}).get(':path')\n",
    "r = requests.get(urljoin(\"https://sofascore.com\", lineups_url), headers = headers)\n",
    "\n",
    "if r.status_code == 200:\n",
    "    data = r.json()"
   ]
  },
  {
   "cell_type": "code",
   "execution_count": 82,
   "metadata": {},
   "outputs": [
    {
     "data": {
      "text/plain": [
       "dict_keys(['confirmed', 'home', 'away'])"
      ]
     },
     "execution_count": 82,
     "metadata": {},
     "output_type": "execute_result"
    }
   ],
   "source": [
    "data.keys()"
   ]
  },
  {
   "cell_type": "code",
   "execution_count": 83,
   "metadata": {},
   "outputs": [],
   "source": [
    "home = data['home']['players']"
   ]
  },
  {
   "cell_type": "code",
   "execution_count": 84,
   "metadata": {},
   "outputs": [],
   "source": [
    "home_lineups = pd.json_normalize(home)"
   ]
  },
  {
   "cell_type": "code",
   "execution_count": 85,
   "metadata": {},
   "outputs": [
    {
     "data": {
      "text/plain": [
       "Index(['shirtNumber', 'jerseyNumber', 'position', 'substitute', 'player.name',\n",
       "       'player.slug', 'player.shortName', 'player.position',\n",
       "       'player.jerseyNumber', 'player.userCount', 'player.id',\n",
       "       'player.country.alpha2', 'player.country.alpha3', 'player.country.name',\n",
       "       'player.marketValueCurrency', 'player.dateOfBirthTimestamp',\n",
       "       'player.fieldTranslations.nameTranslation.ar',\n",
       "       'player.fieldTranslations.shortNameTranslation.ar',\n",
       "       'statistics.totalPass', 'statistics.accuratePass',\n",
       "       'statistics.totalLongBalls', 'statistics.goalAssist',\n",
       "       'statistics.minutesPlayed', 'statistics.touches', 'statistics.rating',\n",
       "       'statistics.possessionLostCtrl', 'statistics.ratingVersions.original',\n",
       "       'statistics.ratingVersions.alternative', 'player.firstName',\n",
       "       'player.lastName', 'statistics.accurateLongBalls',\n",
       "       'statistics.totalCross', 'statistics.accurateCross',\n",
       "       'statistics.duelLost', 'statistics.duelWon', 'statistics.challengeLost',\n",
       "       'statistics.totalContest', 'statistics.blockedScoringAttempt',\n",
       "       'statistics.totalClearance', 'statistics.totalTackle',\n",
       "       'statistics.expectedGoals', 'statistics.keyPass',\n",
       "       'statistics.expectedAssists', 'statistics.aerialLost',\n",
       "       'statistics.aerialWon', 'statistics.onTargetScoringAttempt',\n",
       "       'statistics.ownGoals', 'statistics.fouls', 'statistics.wasFouled',\n",
       "       'statistics.totalOffside', 'statistics.shotOffTarget',\n",
       "       'statistics.interceptionWon', 'statistics.dispossessed',\n",
       "       'statistics.wonContest', 'statistics.goals', 'captain',\n",
       "       'statistics.penaltyWon'],\n",
       "      dtype='object')"
      ]
     },
     "execution_count": 85,
     "metadata": {},
     "output_type": "execute_result"
    }
   ],
   "source": [
    "home_lineups.columns"
   ]
  },
  {
   "cell_type": "code",
   "execution_count": 86,
   "metadata": {},
   "outputs": [],
   "source": [
    "standard_columns = [\n",
    "'shirtNumber', 'jerseyNumber', 'position', 'substitute', 'player.name',\n",
    "       'player.slug', 'player.position',\n",
    "       'player.jerseyNumber','player.country.name',\n",
    "       'statistics.totalPass', 'statistics.accuratePass',\n",
    "       'statistics.totalLongBalls', 'statistics.goalAssist',\n",
    "       'statistics.minutesPlayed', 'statistics.touches', 'statistics.rating',\n",
    "       'statistics.possessionLostCtrl','statistics.accurateLongBalls',\n",
    "       'statistics.totalCross', 'statistics.accurateCross',\n",
    "       'statistics.duelLost', 'statistics.duelWon', 'statistics.challengeLost',\n",
    "       'statistics.totalContest', 'statistics.blockedScoringAttempt',\n",
    "       'statistics.totalClearance', 'statistics.totalTackle',\n",
    "       'statistics.expectedGoals', 'statistics.keyPass',\n",
    "       'statistics.expectedAssists', 'statistics.aerialLost',\n",
    "       'statistics.aerialWon', 'statistics.onTargetScoringAttempt',\n",
    "       'statistics.ownGoals', 'statistics.fouls', 'statistics.wasFouled',\n",
    "       'statistics.totalOffside', 'statistics.shotOffTarget',\n",
    "       'statistics.interceptionWon', 'statistics.dispossessed',\n",
    "       'statistics.wonContest', 'statistics.goals', 'captain',\n",
    "       'statistics.penaltyWon'\n",
    "]"
   ]
  },
  {
   "cell_type": "code",
   "execution_count": 87,
   "metadata": {},
   "outputs": [
    {
     "data": {
      "text/plain": [
       "44"
      ]
     },
     "execution_count": 87,
     "metadata": {},
     "output_type": "execute_result"
    }
   ],
   "source": [
    "len(standard_columns)"
   ]
  },
  {
   "cell_type": "code",
   "execution_count": 88,
   "metadata": {},
   "outputs": [],
   "source": [
    "# Ensure all necessary columns are present\n",
    "home_lineups = home_lineups.reindex(columns=standard_columns)"
   ]
  },
  {
   "cell_type": "code",
   "execution_count": 89,
   "metadata": {},
   "outputs": [
    {
     "data": {
      "text/plain": [
       "Index(['shirtNumber', 'jerseyNumber', 'position', 'substitute', 'player.name',\n",
       "       'player.slug', 'player.position', 'player.jerseyNumber',\n",
       "       'player.country.name', 'statistics.totalPass',\n",
       "       'statistics.accuratePass', 'statistics.totalLongBalls',\n",
       "       'statistics.goalAssist', 'statistics.minutesPlayed',\n",
       "       'statistics.touches', 'statistics.rating',\n",
       "       'statistics.possessionLostCtrl', 'statistics.accurateLongBalls',\n",
       "       'statistics.totalCross', 'statistics.accurateCross',\n",
       "       'statistics.duelLost', 'statistics.duelWon', 'statistics.challengeLost',\n",
       "       'statistics.totalContest', 'statistics.blockedScoringAttempt',\n",
       "       'statistics.totalClearance', 'statistics.totalTackle',\n",
       "       'statistics.expectedGoals', 'statistics.keyPass',\n",
       "       'statistics.expectedAssists', 'statistics.aerialLost',\n",
       "       'statistics.aerialWon', 'statistics.onTargetScoringAttempt',\n",
       "       'statistics.ownGoals', 'statistics.fouls', 'statistics.wasFouled',\n",
       "       'statistics.totalOffside', 'statistics.shotOffTarget',\n",
       "       'statistics.interceptionWon', 'statistics.dispossessed',\n",
       "       'statistics.wonContest', 'statistics.goals', 'captain',\n",
       "       'statistics.penaltyWon'],\n",
       "      dtype='object')"
      ]
     },
     "execution_count": 89,
     "metadata": {},
     "output_type": "execute_result"
    }
   ],
   "source": [
    "home_lineups.columns"
   ]
  },
  {
   "cell_type": "code",
   "execution_count": 95,
   "metadata": {},
   "outputs": [],
   "source": [
    "home_lineups.columns = home_lineups.columns.str.replace('statistics.','')\n",
    "home_lineups.columns = home_lineups.columns.str.replace('player.','')"
   ]
  },
  {
   "cell_type": "code",
   "execution_count": 96,
   "metadata": {},
   "outputs": [
    {
     "data": {
      "text/plain": [
       "Index(['shirtNumber', 'jerseyNumber', 'position', 'substitute', 'name', 'slug',\n",
       "       'position', 'jerseyNumber', 'country.name', 'totalPass', 'accuratePass',\n",
       "       'totalLongBalls', 'goalAssist', 'minutesPlayed', 'touches', 'rating',\n",
       "       'possessionLostCtrl', 'accurateLongBalls', 'totalCross',\n",
       "       'accurateCross', 'duelLost', 'duelWon', 'challengeLost', 'totalContest',\n",
       "       'blockedScoringAttempt', 'totalClearance', 'totalTackle',\n",
       "       'expectedGoals', 'keyPass', 'expectedAssists', 'aerialLost',\n",
       "       'aerialWon', 'onTargetScoringAttempt', 'ownGoals', 'fouls', 'wasFouled',\n",
       "       'totalOffside', 'shotOffTarget', 'interceptionWon', 'dispossessed',\n",
       "       'wonContest', 'goals', 'captain', 'penaltyWon'],\n",
       "      dtype='object')"
      ]
     },
     "execution_count": 96,
     "metadata": {},
     "output_type": "execute_result"
    }
   ],
   "source": [
    "home_lineups.columns"
   ]
  },
  {
   "cell_type": "code",
   "execution_count": 97,
   "metadata": {},
   "outputs": [
    {
     "data": {
      "text/plain": [
       "(26, 44)"
      ]
     },
     "execution_count": 97,
     "metadata": {},
     "output_type": "execute_result"
    }
   ],
   "source": [
    "home_lineups.shape"
   ]
  },
  {
   "cell_type": "code",
   "execution_count": 99,
   "metadata": {},
   "outputs": [
    {
     "data": {
      "text/plain": [
       "0      15.0\n",
       "1      97.0\n",
       "2     102.0\n",
       "3      98.0\n",
       "4      89.0\n",
       "5      34.0\n",
       "6     108.0\n",
       "7      59.0\n",
       "8      45.0\n",
       "9      46.0\n",
       "10     25.0\n",
       "11     73.0\n",
       "12     24.0\n",
       "13      5.0\n",
       "14     12.0\n",
       "15     13.0\n",
       "16      NaN\n",
       "17      NaN\n",
       "18      NaN\n",
       "19      NaN\n",
       "20      NaN\n",
       "21      NaN\n",
       "22      NaN\n",
       "23      NaN\n",
       "24      NaN\n",
       "25      NaN\n",
       "Name: touches, dtype: float64"
      ]
     },
     "execution_count": 99,
     "metadata": {},
     "output_type": "execute_result"
    }
   ],
   "source": [
    "home_lineups['touches']"
   ]
  },
  {
   "cell_type": "code",
   "execution_count": 100,
   "metadata": {},
   "outputs": [],
   "source": [
    "away = data['away']['players']"
   ]
  },
  {
   "cell_type": "code",
   "execution_count": 102,
   "metadata": {},
   "outputs": [],
   "source": [
    "away_lineups = pd.json_normalize(away)"
   ]
  },
  {
   "cell_type": "code",
   "execution_count": 103,
   "metadata": {},
   "outputs": [],
   "source": [
    "# Ensure all necessary columns are present\n",
    "away_lineups = away_lineups.reindex(columns=standard_columns)"
   ]
  },
  {
   "cell_type": "code",
   "execution_count": 104,
   "metadata": {},
   "outputs": [
    {
     "name": "stdout",
     "output_type": "stream",
     "text": [
      "<class 'pandas.core.frame.DataFrame'>\n",
      "RangeIndex: 26 entries, 0 to 25\n",
      "Data columns (total 44 columns):\n",
      " #   Column                             Non-Null Count  Dtype  \n",
      "---  ------                             --------------  -----  \n",
      " 0   shirtNumber                        26 non-null     int64  \n",
      " 1   jerseyNumber                       26 non-null     object \n",
      " 2   position                           26 non-null     object \n",
      " 3   substitute                         26 non-null     bool   \n",
      " 4   player.name                        26 non-null     object \n",
      " 5   player.slug                        26 non-null     object \n",
      " 6   player.position                    26 non-null     object \n",
      " 7   player.jerseyNumber                22 non-null     object \n",
      " 8   player.country.name                26 non-null     object \n",
      " 9   statistics.totalPass               16 non-null     float64\n",
      " 10  statistics.accuratePass            16 non-null     float64\n",
      " 11  statistics.totalLongBalls          11 non-null     float64\n",
      " 12  statistics.goalAssist              16 non-null     float64\n",
      " 13  statistics.minutesPlayed           16 non-null     float64\n",
      " 14  statistics.touches                 16 non-null     float64\n",
      " 15  statistics.rating                  16 non-null     float64\n",
      " 16  statistics.possessionLostCtrl      16 non-null     float64\n",
      " 17  statistics.accurateLongBalls       7 non-null      float64\n",
      " 18  statistics.totalCross              4 non-null      float64\n",
      " 19  statistics.accurateCross           1 non-null      float64\n",
      " 20  statistics.duelLost                12 non-null     float64\n",
      " 21  statistics.duelWon                 14 non-null     float64\n",
      " 22  statistics.challengeLost           4 non-null      float64\n",
      " 23  statistics.totalContest            5 non-null      float64\n",
      " 24  statistics.blockedScoringAttempt   0 non-null      float64\n",
      " 25  statistics.totalClearance          11 non-null     float64\n",
      " 26  statistics.totalTackle             9 non-null      float64\n",
      " 27  statistics.expectedGoals           1 non-null      float64\n",
      " 28  statistics.keyPass                 0 non-null      float64\n",
      " 29  statistics.expectedAssists         3 non-null      float64\n",
      " 30  statistics.aerialLost              7 non-null      float64\n",
      " 31  statistics.aerialWon               6 non-null      float64\n",
      " 32  statistics.onTargetScoringAttempt  0 non-null      float64\n",
      " 33  statistics.ownGoals                0 non-null      float64\n",
      " 34  statistics.fouls                   6 non-null      float64\n",
      " 35  statistics.wasFouled               9 non-null      float64\n",
      " 36  statistics.totalOffside            0 non-null      float64\n",
      " 37  statistics.shotOffTarget           1 non-null      float64\n",
      " 38  statistics.interceptionWon         5 non-null      float64\n",
      " 39  statistics.dispossessed            5 non-null      float64\n",
      " 40  statistics.wonContest              4 non-null      float64\n",
      " 41  statistics.goals                   0 non-null      float64\n",
      " 42  captain                            1 non-null      object \n",
      " 43  statistics.penaltyWon              0 non-null      float64\n",
      "dtypes: bool(1), float64(34), int64(1), object(8)\n",
      "memory usage: 8.9+ KB\n"
     ]
    }
   ],
   "source": [
    "away_lineups.info()"
   ]
  },
  {
   "cell_type": "code",
   "execution_count": 105,
   "metadata": {},
   "outputs": [
    {
     "data": {
      "text/plain": [
       "(26, 44)"
      ]
     },
     "execution_count": 105,
     "metadata": {},
     "output_type": "execute_result"
    }
   ],
   "source": [
    "away_lineups.shape"
   ]
  },
  {
   "cell_type": "code",
   "execution_count": 106,
   "metadata": {},
   "outputs": [],
   "source": [
    "away_lineups.columns = away_lineups.columns.str.replace('statistics.','')\n",
    "away_lineups.columns = away_lineups.columns.str.replace('player.','')"
   ]
  },
  {
   "cell_type": "code",
   "execution_count": 107,
   "metadata": {},
   "outputs": [
    {
     "name": "stdout",
     "output_type": "stream",
     "text": [
      "<class 'pandas.core.frame.DataFrame'>\n",
      "RangeIndex: 26 entries, 0 to 25\n",
      "Data columns (total 44 columns):\n",
      " #   Column                  Non-Null Count  Dtype  \n",
      "---  ------                  --------------  -----  \n",
      " 0   shirtNumber             26 non-null     int64  \n",
      " 1   jerseyNumber            26 non-null     object \n",
      " 2   position                26 non-null     object \n",
      " 3   substitute              26 non-null     bool   \n",
      " 4   name                    26 non-null     object \n",
      " 5   slug                    26 non-null     object \n",
      " 6   position                26 non-null     object \n",
      " 7   jerseyNumber            22 non-null     object \n",
      " 8   country.name            26 non-null     object \n",
      " 9   totalPass               16 non-null     float64\n",
      " 10  accuratePass            16 non-null     float64\n",
      " 11  totalLongBalls          11 non-null     float64\n",
      " 12  goalAssist              16 non-null     float64\n",
      " 13  minutesPlayed           16 non-null     float64\n",
      " 14  touches                 16 non-null     float64\n",
      " 15  rating                  16 non-null     float64\n",
      " 16  possessionLostCtrl      16 non-null     float64\n",
      " 17  accurateLongBalls       7 non-null      float64\n",
      " 18  totalCross              4 non-null      float64\n",
      " 19  accurateCross           1 non-null      float64\n",
      " 20  duelLost                12 non-null     float64\n",
      " 21  duelWon                 14 non-null     float64\n",
      " 22  challengeLost           4 non-null      float64\n",
      " 23  totalContest            5 non-null      float64\n",
      " 24  blockedScoringAttempt   0 non-null      float64\n",
      " 25  totalClearance          11 non-null     float64\n",
      " 26  totalTackle             9 non-null      float64\n",
      " 27  expectedGoals           1 non-null      float64\n",
      " 28  keyPass                 0 non-null      float64\n",
      " 29  expectedAssists         3 non-null      float64\n",
      " 30  aerialLost              7 non-null      float64\n",
      " 31  aerialWon               6 non-null      float64\n",
      " 32  onTargetScoringAttempt  0 non-null      float64\n",
      " 33  ownGoals                0 non-null      float64\n",
      " 34  fouls                   6 non-null      float64\n",
      " 35  wasFouled               9 non-null      float64\n",
      " 36  totalOffside            0 non-null      float64\n",
      " 37  shotOffTarget           1 non-null      float64\n",
      " 38  interceptionWon         5 non-null      float64\n",
      " 39  dispossessed            5 non-null      float64\n",
      " 40  wonContest              4 non-null      float64\n",
      " 41  goals                   0 non-null      float64\n",
      " 42  captain                 1 non-null      object \n",
      " 43  penaltyWon              0 non-null      float64\n",
      "dtypes: bool(1), float64(34), int64(1), object(8)\n",
      "memory usage: 8.9+ KB\n"
     ]
    }
   ],
   "source": [
    "away_lineups.info()"
   ]
  },
  {
   "cell_type": "code",
   "execution_count": 108,
   "metadata": {},
   "outputs": [
    {
     "data": {
      "text/plain": [
       "Index(['shirtNumber', 'jerseyNumber', 'position', 'substitute', 'name', 'slug',\n",
       "       'position', 'jerseyNumber', 'country.name', 'totalPass', 'accuratePass',\n",
       "       'totalLongBalls', 'goalAssist', 'minutesPlayed', 'touches', 'rating',\n",
       "       'possessionLostCtrl', 'accurateLongBalls', 'totalCross',\n",
       "       'accurateCross', 'duelLost', 'duelWon', 'challengeLost', 'totalContest',\n",
       "       'blockedScoringAttempt', 'totalClearance', 'totalTackle',\n",
       "       'expectedGoals', 'keyPass', 'expectedAssists', 'aerialLost',\n",
       "       'aerialWon', 'onTargetScoringAttempt', 'ownGoals', 'fouls', 'wasFouled',\n",
       "       'totalOffside', 'shotOffTarget', 'interceptionWon', 'dispossessed',\n",
       "       'wonContest', 'goals', 'captain', 'penaltyWon'],\n",
       "      dtype='object')"
      ]
     },
     "execution_count": 108,
     "metadata": {},
     "output_type": "execute_result"
    }
   ],
   "source": [
    "away_lineups.columns"
   ]
  },
  {
   "cell_type": "code",
   "execution_count": 109,
   "metadata": {},
   "outputs": [
    {
     "data": {
      "text/html": [
       "<div>\n",
       "<style scoped>\n",
       "    .dataframe tbody tr th:only-of-type {\n",
       "        vertical-align: middle;\n",
       "    }\n",
       "\n",
       "    .dataframe tbody tr th {\n",
       "        vertical-align: top;\n",
       "    }\n",
       "\n",
       "    .dataframe thead th {\n",
       "        text-align: right;\n",
       "    }\n",
       "</style>\n",
       "<table border=\"1\" class=\"dataframe\">\n",
       "  <thead>\n",
       "    <tr style=\"text-align: right;\">\n",
       "      <th></th>\n",
       "      <th>shirtNumber</th>\n",
       "      <th>jerseyNumber</th>\n",
       "      <th>position</th>\n",
       "      <th>substitute</th>\n",
       "      <th>name</th>\n",
       "      <th>slug</th>\n",
       "      <th>position</th>\n",
       "      <th>jerseyNumber</th>\n",
       "      <th>country.name</th>\n",
       "      <th>totalPass</th>\n",
       "      <th>...</th>\n",
       "      <th>fouls</th>\n",
       "      <th>wasFouled</th>\n",
       "      <th>totalOffside</th>\n",
       "      <th>shotOffTarget</th>\n",
       "      <th>interceptionWon</th>\n",
       "      <th>dispossessed</th>\n",
       "      <th>wonContest</th>\n",
       "      <th>goals</th>\n",
       "      <th>captain</th>\n",
       "      <th>penaltyWon</th>\n",
       "    </tr>\n",
       "  </thead>\n",
       "  <tbody>\n",
       "    <tr>\n",
       "      <th>0</th>\n",
       "      <td>1</td>\n",
       "      <td>1</td>\n",
       "      <td>G</td>\n",
       "      <td>False</td>\n",
       "      <td>Angus Gunn</td>\n",
       "      <td>angus-gunn</td>\n",
       "      <td>G</td>\n",
       "      <td>28</td>\n",
       "      <td>Scotland</td>\n",
       "      <td>25.0</td>\n",
       "      <td>...</td>\n",
       "      <td>NaN</td>\n",
       "      <td>NaN</td>\n",
       "      <td>NaN</td>\n",
       "      <td>NaN</td>\n",
       "      <td>NaN</td>\n",
       "      <td>NaN</td>\n",
       "      <td>NaN</td>\n",
       "      <td>NaN</td>\n",
       "      <td>NaN</td>\n",
       "      <td>NaN</td>\n",
       "    </tr>\n",
       "    <tr>\n",
       "      <th>1</th>\n",
       "      <td>2</td>\n",
       "      <td>2</td>\n",
       "      <td>D</td>\n",
       "      <td>False</td>\n",
       "      <td>Anthony Ralston</td>\n",
       "      <td>anthony-ralston</td>\n",
       "      <td>D</td>\n",
       "      <td>56</td>\n",
       "      <td>Scotland</td>\n",
       "      <td>21.0</td>\n",
       "      <td>...</td>\n",
       "      <td>1.0</td>\n",
       "      <td>2.0</td>\n",
       "      <td>NaN</td>\n",
       "      <td>NaN</td>\n",
       "      <td>NaN</td>\n",
       "      <td>NaN</td>\n",
       "      <td>NaN</td>\n",
       "      <td>NaN</td>\n",
       "      <td>NaN</td>\n",
       "      <td>NaN</td>\n",
       "    </tr>\n",
       "    <tr>\n",
       "      <th>2</th>\n",
       "      <td>15</td>\n",
       "      <td>15</td>\n",
       "      <td>D</td>\n",
       "      <td>False</td>\n",
       "      <td>Ryan Porteous</td>\n",
       "      <td>porteous-ryan</td>\n",
       "      <td>D</td>\n",
       "      <td>5</td>\n",
       "      <td>Scotland</td>\n",
       "      <td>21.0</td>\n",
       "      <td>...</td>\n",
       "      <td>1.0</td>\n",
       "      <td>NaN</td>\n",
       "      <td>NaN</td>\n",
       "      <td>NaN</td>\n",
       "      <td>NaN</td>\n",
       "      <td>NaN</td>\n",
       "      <td>NaN</td>\n",
       "      <td>NaN</td>\n",
       "      <td>NaN</td>\n",
       "      <td>NaN</td>\n",
       "    </tr>\n",
       "    <tr>\n",
       "      <th>3</th>\n",
       "      <td>13</td>\n",
       "      <td>13</td>\n",
       "      <td>D</td>\n",
       "      <td>False</td>\n",
       "      <td>Jack Hendry</td>\n",
       "      <td>jack-hendry</td>\n",
       "      <td>D</td>\n",
       "      <td>4</td>\n",
       "      <td>Scotland</td>\n",
       "      <td>26.0</td>\n",
       "      <td>...</td>\n",
       "      <td>NaN</td>\n",
       "      <td>1.0</td>\n",
       "      <td>NaN</td>\n",
       "      <td>NaN</td>\n",
       "      <td>NaN</td>\n",
       "      <td>NaN</td>\n",
       "      <td>NaN</td>\n",
       "      <td>NaN</td>\n",
       "      <td>NaN</td>\n",
       "      <td>NaN</td>\n",
       "    </tr>\n",
       "    <tr>\n",
       "      <th>4</th>\n",
       "      <td>6</td>\n",
       "      <td>6</td>\n",
       "      <td>D</td>\n",
       "      <td>False</td>\n",
       "      <td>Kieran Tierney</td>\n",
       "      <td>kieran-tierney</td>\n",
       "      <td>D</td>\n",
       "      <td>17</td>\n",
       "      <td>Scotland</td>\n",
       "      <td>41.0</td>\n",
       "      <td>...</td>\n",
       "      <td>NaN</td>\n",
       "      <td>NaN</td>\n",
       "      <td>NaN</td>\n",
       "      <td>NaN</td>\n",
       "      <td>NaN</td>\n",
       "      <td>NaN</td>\n",
       "      <td>NaN</td>\n",
       "      <td>NaN</td>\n",
       "      <td>NaN</td>\n",
       "      <td>NaN</td>\n",
       "    </tr>\n",
       "  </tbody>\n",
       "</table>\n",
       "<p>5 rows × 44 columns</p>\n",
       "</div>"
      ],
      "text/plain": [
       "   shirtNumber jerseyNumber position  substitute             name  \\\n",
       "0            1            1        G       False       Angus Gunn   \n",
       "1            2            2        D       False  Anthony Ralston   \n",
       "2           15           15        D       False    Ryan Porteous   \n",
       "3           13           13        D       False      Jack Hendry   \n",
       "4            6            6        D       False   Kieran Tierney   \n",
       "\n",
       "              slug position jerseyNumber country.name  totalPass  ...  fouls  \\\n",
       "0       angus-gunn        G           28     Scotland       25.0  ...    NaN   \n",
       "1  anthony-ralston        D           56     Scotland       21.0  ...    1.0   \n",
       "2    porteous-ryan        D            5     Scotland       21.0  ...    1.0   \n",
       "3      jack-hendry        D            4     Scotland       26.0  ...    NaN   \n",
       "4   kieran-tierney        D           17     Scotland       41.0  ...    NaN   \n",
       "\n",
       "   wasFouled  totalOffside  shotOffTarget  interceptionWon  dispossessed  \\\n",
       "0        NaN           NaN            NaN              NaN           NaN   \n",
       "1        2.0           NaN            NaN              NaN           NaN   \n",
       "2        NaN           NaN            NaN              NaN           NaN   \n",
       "3        1.0           NaN            NaN              NaN           NaN   \n",
       "4        NaN           NaN            NaN              NaN           NaN   \n",
       "\n",
       "   wonContest  goals  captain  penaltyWon  \n",
       "0         NaN    NaN      NaN         NaN  \n",
       "1         NaN    NaN      NaN         NaN  \n",
       "2         NaN    NaN      NaN         NaN  \n",
       "3         NaN    NaN      NaN         NaN  \n",
       "4         NaN    NaN      NaN         NaN  \n",
       "\n",
       "[5 rows x 44 columns]"
      ]
     },
     "execution_count": 109,
     "metadata": {},
     "output_type": "execute_result"
    }
   ],
   "source": [
    "away_lineups.head()"
   ]
  },
  {
   "cell_type": "code",
   "execution_count": 110,
   "metadata": {},
   "outputs": [
    {
     "data": {
      "text/plain": [
       "0     6.5\n",
       "1     5.9\n",
       "2     5.1\n",
       "3     5.9\n",
       "4     6.1\n",
       "5     6.0\n",
       "6     6.0\n",
       "7     6.7\n",
       "8     6.3\n",
       "9     6.3\n",
       "10    6.4\n",
       "11    6.4\n",
       "12    6.3\n",
       "13    6.2\n",
       "14    6.8\n",
       "15    6.5\n",
       "16    NaN\n",
       "17    NaN\n",
       "18    NaN\n",
       "19    NaN\n",
       "20    NaN\n",
       "21    NaN\n",
       "22    NaN\n",
       "23    NaN\n",
       "24    NaN\n",
       "25    NaN\n",
       "Name: rating, dtype: float64"
      ]
     },
     "execution_count": 110,
     "metadata": {},
     "output_type": "execute_result"
    }
   ],
   "source": [
    "away_lineups['rating']"
   ]
  }
 ],
 "metadata": {
  "kernelspec": {
   "display_name": "base",
   "language": "python",
   "name": "python3"
  },
  "language_info": {
   "codemirror_mode": {
    "name": "ipython",
    "version": 3
   },
   "file_extension": ".py",
   "mimetype": "text/x-python",
   "name": "python",
   "nbconvert_exporter": "python",
   "pygments_lexer": "ipython3",
   "version": "3.11.5"
  }
 },
 "nbformat": 4,
 "nbformat_minor": 2
}
