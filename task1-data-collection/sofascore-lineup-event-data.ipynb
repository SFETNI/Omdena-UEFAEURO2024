{
 "cells": [
  {
   "cell_type": "code",
   "execution_count": 12,
   "metadata": {},
   "outputs": [],
   "source": [
    "import json\n",
    "import requests\n",
    "from selenium import webdriver\n",
    "from selenium.webdriver.chrome.options import Options\n",
    "from selenium.webdriver.chrome.service import Service as ChromeService\n",
    "\n",
    "from webdriver_manager.chrome import ChromeDriverManager"
   ]
  },
  {
   "cell_type": "code",
   "execution_count": 13,
   "metadata": {},
   "outputs": [],
   "source": [
    "options = webdriver.ChromeOptions()\n",
    "\n",
    "options.set_capability(\n",
    "    'goog:loggingPrefs', \n",
    "    {\n",
    "        'performance': 'ALL', \n",
    "        'browser': 'ALL'\n",
    "        }\n",
    ")\n",
    "\n",
    "driver = webdriver.Chrome(options = options)\n",
    "driver.set_page_load_timeout(20)"
   ]
  },
  {
   "cell_type": "code",
   "execution_count": 14,
   "metadata": {},
   "outputs": [],
   "source": [
    "headers = {\n",
    "    'user-agent': 'Mozilla/5.0 (X11; Linux x86_64) AppleWebKit/537.36 (KHTML, like Gecko) Chrome/123.0.0.0 Safari/537.36'\n",
    "}"
   ]
  },
  {
   "cell_type": "code",
   "execution_count": 15,
   "metadata": {},
   "outputs": [],
   "source": [
    "matches = \"germany-scotland\"\n",
    "match_ids = \"VTbslUb\"\n",
    "\n",
    "match_df = []\n",
    "\n",
    "base_url = 'https://www.sofascore.com'\n",
    "\n",
    "# for match, match_id in zip(matches, match_ids):\n",
    "\n",
    "match_url = f'{base_url}/{matches}/{match_ids}'\n",
    "\n",
    "try:\n",
    "    driver.get(match_url)\n",
    "except:\n",
    "    pass\n",
    "\n",
    "driver.execute_script(\"window.scrollTo(0, document.body.scrollHeight);\")\n"
   ]
  },
  {
   "cell_type": "code",
   "execution_count": 16,
   "metadata": {},
   "outputs": [],
   "source": [
    "# gives all network responses/ all APIs being called\n",
    "logs_raw = driver.get_log('performance')"
   ]
  },
  {
   "cell_type": "code",
   "execution_count": 17,
   "metadata": {},
   "outputs": [],
   "source": [
    "logs = [json.loads(lr[\"message\"])[\"message\"] for lr in logs_raw]"
   ]
  },
  {
   "cell_type": "code",
   "execution_count": 18,
   "metadata": {},
   "outputs": [
    {
     "data": {
      "text/plain": [
       "{'method': 'Network.loadingFinished',\n",
       " 'params': {'encodedDataLength': 0,\n",
       "  'requestId': 'B48F7925AD0C7F6E71B58029E1627771',\n",
       "  'timestamp': 14830.510554}}"
      ]
     },
     "execution_count": 18,
     "metadata": {},
     "output_type": "execute_result"
    }
   ],
   "source": [
    "logs[0]"
   ]
  },
  {
   "cell_type": "code",
   "execution_count": 19,
   "metadata": {},
   "outputs": [
    {
     "name": "stdout",
     "output_type": "stream",
     "text": [
      "/api/v1/event/11873905/lineups\n"
     ]
    }
   ],
   "source": [
    "for x in logs:\n",
    "    if 'lineups' in x['params'].get('headers', {}).get(':path', ''):\n",
    "        print(x['params'].get('headers', {}).get(':path'))\n",
    "        break"
   ]
  },
  {
   "cell_type": "code",
   "execution_count": 20,
   "metadata": {},
   "outputs": [
    {
     "name": "stdout",
     "output_type": "stream",
     "text": [
      "/api/v1/event/11873905/lineups\n"
     ]
    }
   ],
   "source": [
    "print(x['params'].get('headers', {}).get(':path'))"
   ]
  },
  {
   "cell_type": "code",
   "execution_count": null,
   "metadata": {},
   "outputs": [],
   "source": [
    "from urllib.parse import urljoin\n",
    "\n",
    "lineups_url = x['params'].get('headers', {}).get(':path')\n",
    "r = requests.get(urljoin(\"https://sofascore.com\", lineups_url), headers = headers)\n",
    "\n",
    "if r.status_code == 200:\n",
    "    print(r.json())"
   ]
  },
  {
   "cell_type": "code",
   "execution_count": 21,
   "metadata": {},
   "outputs": [],
   "source": [
    "#requestId = x[\"params\"][\"requestId\"]"
   ]
  },
  {
   "cell_type": "code",
   "execution_count": 22,
   "metadata": {},
   "outputs": [
    {
     "data": {
      "text/plain": [
       "'97958.157'"
      ]
     },
     "execution_count": 22,
     "metadata": {},
     "output_type": "execute_result"
    }
   ],
   "source": [
    "#requestId"
   ]
  },
  {
   "cell_type": "code",
   "execution_count": 23,
   "metadata": {},
   "outputs": [
    {
     "ename": "WebDriverException",
     "evalue": "Message: unknown error: unhandled inspector error: {\"code\":-32000,\"message\":\"No data found for resource with given identifier\"}\n  (Session info: chrome=123.0.6312.122)\nStacktrace:\n#0 0x5574f8ccc863 <unknown>\n#1 0x5574f89c28c6 <unknown>\n#2 0x5574f89a9b32 <unknown>\n#3 0x5574f89a855b <unknown>\n#4 0x5574f89a8b9f <unknown>\n#5 0x5574f89a8af4 <unknown>\n#6 0x5574f89c581f <unknown>\n#7 0x5574f8a5a6ba <unknown>\n#8 0x5574f8a2f5a2 <unknown>\n#9 0x5574f8a4dc19 <unknown>\n#10 0x5574f8a2f343 <unknown>\n#11 0x5574f8a00593 <unknown>\n#12 0x5574f8a00f5e <unknown>\n#13 0x5574f8c9084b <unknown>\n#14 0x5574f8c947a5 <unknown>\n#15 0x5574f8c7e571 <unknown>\n#16 0x5574f8c95332 <unknown>\n#17 0x5574f8c6387f <unknown>\n#18 0x5574f8cbb728 <unknown>\n#19 0x5574f8cbb8fb <unknown>\n#20 0x5574f8ccb9b4 <unknown>\n#21 0x7fc64f327ac3 <unknown>\n",
     "output_type": "error",
     "traceback": [
      "\u001b[0;31m---------------------------------------------------------------------------\u001b[0m",
      "\u001b[0;31mWebDriverException\u001b[0m                        Traceback (most recent call last)",
      "Cell \u001b[0;32mIn[23], line 1\u001b[0m\n\u001b[0;32m----> 1\u001b[0m lineups_body \u001b[38;5;241m=\u001b[39m \u001b[43mdriver\u001b[49m\u001b[38;5;241;43m.\u001b[39;49m\u001b[43mexecute_cdp_cmd\u001b[49m\u001b[43m(\u001b[49m\u001b[38;5;124;43m'\u001b[39;49m\u001b[38;5;124;43mNetwork.getResponseBody\u001b[39;49m\u001b[38;5;124;43m'\u001b[39;49m\u001b[43m,\u001b[49m\u001b[43m \u001b[49m\u001b[43m{\u001b[49m\u001b[38;5;124;43m'\u001b[39;49m\u001b[38;5;124;43mrequestId\u001b[39;49m\u001b[38;5;124;43m'\u001b[39;49m\u001b[43m:\u001b[49m\u001b[43m \u001b[49m\u001b[43mrequestId\u001b[49m\u001b[43m}\u001b[49m\u001b[43m)\u001b[49m[\u001b[38;5;124m'\u001b[39m\u001b[38;5;124mbody\u001b[39m\u001b[38;5;124m'\u001b[39m]\n",
      "File \u001b[0;32m~/anaconda3/lib/python3.11/site-packages/selenium/webdriver/chromium/webdriver.py:136\u001b[0m, in \u001b[0;36mChromiumDriver.execute_cdp_cmd\u001b[0;34m(self, cmd, cmd_args)\u001b[0m\n\u001b[1;32m    118\u001b[0m \u001b[38;5;28;01mdef\u001b[39;00m \u001b[38;5;21mexecute_cdp_cmd\u001b[39m(\u001b[38;5;28mself\u001b[39m, cmd: \u001b[38;5;28mstr\u001b[39m, cmd_args: \u001b[38;5;28mdict\u001b[39m):\n\u001b[1;32m    119\u001b[0m \u001b[38;5;250m    \u001b[39m\u001b[38;5;124;03m\"\"\"Execute Chrome Devtools Protocol command and get returned result The\u001b[39;00m\n\u001b[1;32m    120\u001b[0m \u001b[38;5;124;03m    command and command args should follow chrome devtools protocol\u001b[39;00m\n\u001b[1;32m    121\u001b[0m \u001b[38;5;124;03m    domains/commands, refer to link\u001b[39;00m\n\u001b[0;32m   (...)\u001b[0m\n\u001b[1;32m    134\u001b[0m \u001b[38;5;124;03m        {'base64Encoded': False, 'body': 'response body string'}\u001b[39;00m\n\u001b[1;32m    135\u001b[0m \u001b[38;5;124;03m    \"\"\"\u001b[39;00m\n\u001b[0;32m--> 136\u001b[0m     \u001b[38;5;28;01mreturn\u001b[39;00m \u001b[38;5;28;43mself\u001b[39;49m\u001b[38;5;241;43m.\u001b[39;49m\u001b[43mexecute\u001b[49m\u001b[43m(\u001b[49m\u001b[38;5;124;43m\"\u001b[39;49m\u001b[38;5;124;43mexecuteCdpCommand\u001b[39;49m\u001b[38;5;124;43m\"\u001b[39;49m\u001b[43m,\u001b[49m\u001b[43m \u001b[49m\u001b[43m{\u001b[49m\u001b[38;5;124;43m\"\u001b[39;49m\u001b[38;5;124;43mcmd\u001b[39;49m\u001b[38;5;124;43m\"\u001b[39;49m\u001b[43m:\u001b[49m\u001b[43m \u001b[49m\u001b[43mcmd\u001b[49m\u001b[43m,\u001b[49m\u001b[43m \u001b[49m\u001b[38;5;124;43m\"\u001b[39;49m\u001b[38;5;124;43mparams\u001b[39;49m\u001b[38;5;124;43m\"\u001b[39;49m\u001b[43m:\u001b[49m\u001b[43m \u001b[49m\u001b[43mcmd_args\u001b[49m\u001b[43m}\u001b[49m\u001b[43m)\u001b[49m[\u001b[38;5;124m\"\u001b[39m\u001b[38;5;124mvalue\u001b[39m\u001b[38;5;124m\"\u001b[39m]\n",
      "File \u001b[0;32m~/anaconda3/lib/python3.11/site-packages/selenium/webdriver/remote/webdriver.py:347\u001b[0m, in \u001b[0;36mWebDriver.execute\u001b[0;34m(self, driver_command, params)\u001b[0m\n\u001b[1;32m    345\u001b[0m response \u001b[38;5;241m=\u001b[39m \u001b[38;5;28mself\u001b[39m\u001b[38;5;241m.\u001b[39mcommand_executor\u001b[38;5;241m.\u001b[39mexecute(driver_command, params)\n\u001b[1;32m    346\u001b[0m \u001b[38;5;28;01mif\u001b[39;00m response:\n\u001b[0;32m--> 347\u001b[0m     \u001b[38;5;28;43mself\u001b[39;49m\u001b[38;5;241;43m.\u001b[39;49m\u001b[43merror_handler\u001b[49m\u001b[38;5;241;43m.\u001b[39;49m\u001b[43mcheck_response\u001b[49m\u001b[43m(\u001b[49m\u001b[43mresponse\u001b[49m\u001b[43m)\u001b[49m\n\u001b[1;32m    348\u001b[0m     response[\u001b[38;5;124m\"\u001b[39m\u001b[38;5;124mvalue\u001b[39m\u001b[38;5;124m\"\u001b[39m] \u001b[38;5;241m=\u001b[39m \u001b[38;5;28mself\u001b[39m\u001b[38;5;241m.\u001b[39m_unwrap_value(response\u001b[38;5;241m.\u001b[39mget(\u001b[38;5;124m\"\u001b[39m\u001b[38;5;124mvalue\u001b[39m\u001b[38;5;124m\"\u001b[39m, \u001b[38;5;28;01mNone\u001b[39;00m))\n\u001b[1;32m    349\u001b[0m     \u001b[38;5;28;01mreturn\u001b[39;00m response\n",
      "File \u001b[0;32m~/anaconda3/lib/python3.11/site-packages/selenium/webdriver/remote/errorhandler.py:229\u001b[0m, in \u001b[0;36mErrorHandler.check_response\u001b[0;34m(self, response)\u001b[0m\n\u001b[1;32m    227\u001b[0m         alert_text \u001b[38;5;241m=\u001b[39m value[\u001b[38;5;124m\"\u001b[39m\u001b[38;5;124malert\u001b[39m\u001b[38;5;124m\"\u001b[39m]\u001b[38;5;241m.\u001b[39mget(\u001b[38;5;124m\"\u001b[39m\u001b[38;5;124mtext\u001b[39m\u001b[38;5;124m\"\u001b[39m)\n\u001b[1;32m    228\u001b[0m     \u001b[38;5;28;01mraise\u001b[39;00m exception_class(message, screen, stacktrace, alert_text)  \u001b[38;5;66;03m# type: ignore[call-arg]  # mypy is not smart enough here\u001b[39;00m\n\u001b[0;32m--> 229\u001b[0m \u001b[38;5;28;01mraise\u001b[39;00m exception_class(message, screen, stacktrace)\n",
      "\u001b[0;31mWebDriverException\u001b[0m: Message: unknown error: unhandled inspector error: {\"code\":-32000,\"message\":\"No data found for resource with given identifier\"}\n  (Session info: chrome=123.0.6312.122)\nStacktrace:\n#0 0x5574f8ccc863 <unknown>\n#1 0x5574f89c28c6 <unknown>\n#2 0x5574f89a9b32 <unknown>\n#3 0x5574f89a855b <unknown>\n#4 0x5574f89a8b9f <unknown>\n#5 0x5574f89a8af4 <unknown>\n#6 0x5574f89c581f <unknown>\n#7 0x5574f8a5a6ba <unknown>\n#8 0x5574f8a2f5a2 <unknown>\n#9 0x5574f8a4dc19 <unknown>\n#10 0x5574f8a2f343 <unknown>\n#11 0x5574f8a00593 <unknown>\n#12 0x5574f8a00f5e <unknown>\n#13 0x5574f8c9084b <unknown>\n#14 0x5574f8c947a5 <unknown>\n#15 0x5574f8c7e571 <unknown>\n#16 0x5574f8c95332 <unknown>\n#17 0x5574f8c6387f <unknown>\n#18 0x5574f8cbb728 <unknown>\n#19 0x5574f8cbb8fb <unknown>\n#20 0x5574f8ccb9b4 <unknown>\n#21 0x7fc64f327ac3 <unknown>\n"
     ]
    }
   ],
   "source": [
    "#lineups_body = driver.execute_cdp_cmd('Network.getResponseBody', {'requestId': requestId})['body']"
   ]
  },
  {
   "cell_type": "code",
   "execution_count": null,
   "metadata": {},
   "outputs": [],
   "source": [
    "#test[0]"
   ]
  }
 ],
 "metadata": {
  "kernelspec": {
   "display_name": "base",
   "language": "python",
   "name": "python3"
  },
  "language_info": {
   "codemirror_mode": {
    "name": "ipython",
    "version": 3
   },
   "file_extension": ".py",
   "mimetype": "text/x-python",
   "name": "python",
   "nbconvert_exporter": "python",
   "pygments_lexer": "ipython3",
   "version": "3.11.5"
  }
 },
 "nbformat": 4,
 "nbformat_minor": 2
}
