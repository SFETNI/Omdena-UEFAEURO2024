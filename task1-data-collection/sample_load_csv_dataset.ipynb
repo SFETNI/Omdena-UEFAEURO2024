{
 "cells": [
  {
   "cell_type": "code",
   "execution_count": 1,
   "metadata": {},
   "outputs": [
    {
     "name": "stdout",
     "output_type": "stream",
     "text": [
      "Requirement already satisfied: pandas in c:\\users\\admin\\anaconda3\\lib\\site-packages (1.3.4)\n",
      "Requirement already satisfied: pytz>=2017.3 in c:\\users\\admin\\anaconda3\\lib\\site-packages (from pandas) (2021.3)\n",
      "Requirement already satisfied: numpy>=1.17.3 in c:\\users\\admin\\anaconda3\\lib\\site-packages (from pandas) (1.20.3)\n",
      "Requirement already satisfied: python-dateutil>=2.7.3 in c:\\users\\admin\\appdata\\roaming\\python\\python39\\site-packages (from pandas) (2.8.2)\n",
      "Requirement already satisfied: six>=1.5 in c:\\users\\admin\\appdata\\roaming\\python\\python39\\site-packages (from python-dateutil>=2.7.3->pandas) (1.16.0)\n"
     ]
    }
   ],
   "source": [
    "!pip install pandas"
   ]
  },
  {
   "cell_type": "code",
   "execution_count": 6,
   "metadata": {},
   "outputs": [
    {
     "name": "stdout",
     "output_type": "stream",
     "text": [
      "Initial Dataset:\n",
      "  Rank        Squad  Matches Played  Wins  Draws  Losses  Goals For  \\\n",
      "0    F     it Italy             7.0   5.0    2.0     0.0       13.0   \n",
      "1    F  eng England             7.0   5.0    2.0     0.0       11.0   \n",
      "2  NaN          NaN             NaN   NaN    NaN     NaN        NaN   \n",
      "3   SF     es Spain             6.0   2.0    4.0     0.0       13.0   \n",
      "4   SF   dk Denmark             6.0   3.0    0.0     3.0       12.0   \n",
      "\n",
      "   Goals Against  Goal Diff.   Pts  exp. Goals  exp. Goals Allowed  \\\n",
      "0            4.0         9.0  17.0        13.1                 6.0   \n",
      "1            2.0         9.0  17.0        11.0                 5.4   \n",
      "2            NaN         NaN   NaN         NaN                 NaN   \n",
      "3            6.0         7.0  10.0        16.7                 7.4   \n",
      "4            7.0         5.0   9.0         9.9                 7.1   \n",
      "\n",
      "   exp. Goals Diff.  xGD/90                        Top Team Scorer  \\\n",
      "0               7.2    1.02  Lorenzo Insigne, Ciro Immobile... - 2   \n",
      "1               5.7    0.81                         Harry Kane - 4   \n",
      "2               NaN     NaN                                    NaN   \n",
      "3               9.3    1.54                      Álvaro Morata - 3   \n",
      "4               2.8    0.47                     Kasper Dolberg - 3   \n",
      "\n",
      "             Goalkeeper  Notes  \n",
      "0  Gianluigi Donnarumma    NaN  \n",
      "1       Jordan Pickford    NaN  \n",
      "2                   NaN    NaN  \n",
      "3            Unai Simón    NaN  \n",
      "4     Kasper Schmeichel    NaN  \n"
     ]
    }
   ],
   "source": [
    "import pandas as pd\n",
    "\n",
    "dataset_path = '../Datasets/league_table_2021.csv'\n",
    "df = pd.read_csv(dataset_path)\n",
    "\n",
    "print(\"Initial Dataset:\")\n",
    "print(df.head())\n"
   ]
  },
  {
   "cell_type": "code",
   "execution_count": 10,
   "metadata": {},
   "outputs": [
    {
     "name": "stdout",
     "output_type": "stream",
     "text": [
      "Cleaned Dataset:\n",
      "  Rank        Squad  Matches Played  Wins  Draws  Losses  Goals For  \\\n",
      "0    F     it Italy             7.0   5.0    2.0     0.0       13.0   \n",
      "1    F  eng England             7.0   5.0    2.0     0.0       11.0   \n",
      "3   SF     es Spain             6.0   2.0    4.0     0.0       13.0   \n",
      "4   SF   dk Denmark             6.0   3.0    0.0     3.0       12.0   \n",
      "6   QF   be Belgium             5.0   4.0    0.0     1.0        9.0   \n",
      "\n",
      "   Goals Against  Goal Diff.   Pts  exp. Goals  exp. Goals Allowed  \\\n",
      "0            4.0         9.0  17.0        13.1                 6.0   \n",
      "1            2.0         9.0  17.0        11.0                 5.4   \n",
      "3            6.0         7.0  10.0        16.7                 7.4   \n",
      "4            7.0         5.0   9.0         9.9                 7.1   \n",
      "6            3.0         6.0  12.0         5.9                 5.4   \n",
      "\n",
      "   exp. Goals Diff.  xGD/90                        Top Team Scorer  \\\n",
      "0               7.2    1.02  Lorenzo Insigne, Ciro Immobile... - 2   \n",
      "1               5.7    0.81                         Harry Kane - 4   \n",
      "3               9.3    1.54                      Álvaro Morata - 3   \n",
      "4               2.8    0.47                     Kasper Dolberg - 3   \n",
      "6               0.5    0.11                      Romelu Lukaku - 4   \n",
      "\n",
      "             Goalkeeper  Notes  \n",
      "0  Gianluigi Donnarumma    NaN  \n",
      "1       Jordan Pickford    NaN  \n",
      "3            Unai Simón    NaN  \n",
      "4     Kasper Schmeichel    NaN  \n",
      "6      Thibaut Courtois    NaN  \n"
     ]
    }
   ],
   "source": [
    "df_cleaned = df.dropna(how='all').copy()\n",
    "\n",
    "df_cleaned.loc[:, 'Rank'] = df_cleaned['Rank'].fillna(method='ffill')\n",
    "df_cleaned.loc[:, 'Squad'] = df_cleaned['Squad'].fillna(method='ffill')\n",
    "\n",
    "df_cleaned = df_cleaned.dropna(subset=['Matches Played', 'Wins', 'Draws', 'Losses', 'Goals For', 'Goals Against', 'Goal Diff.', 'Pts'])\n",
    "\n",
    "print(\"Cleaned Dataset:\")\n",
    "print(df_cleaned.head())\n",
    "\n",
    "cleaned_dataset_path = '../Datasets/cleaned_euro_football.csv'\n",
    "df_cleaned.to_csv(cleaned_dataset_path, index=False)"
   ]
  }
 ],
 "metadata": {
  "kernelspec": {
   "display_name": "Python 3",
   "language": "python",
   "name": "python3"
  },
  "language_info": {
   "codemirror_mode": {
    "name": "ipython",
    "version": 3
   },
   "file_extension": ".py",
   "mimetype": "text/x-python",
   "name": "python",
   "nbconvert_exporter": "python",
   "pygments_lexer": "ipython3",
   "version": "3.9.7"
  }
 },
 "nbformat": 4,
 "nbformat_minor": 2
}
