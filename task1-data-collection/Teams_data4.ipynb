{
 "cells": [
  {
   "cell_type": "code",
   "execution_count": 3,
   "metadata": {},
   "outputs": [
    {
     "name": "stderr",
     "output_type": "stream",
     "text": [
      "C:\\Users\\Admin\\AppData\\Local\\Temp\\ipykernel_6440\\3282456702.py:22: DeprecationWarning: Using 'method_whitelist' with Retry is deprecated and will be removed in v2.0. Use 'allowed_methods' instead\n",
      "  retry_strategy = Retry(\n"
     ]
    },
    {
     "name": "stdout",
     "output_type": "stream",
     "text": [
      "Error during requests to https://www.uefa.com/european-qualifiers/statistics/teams/: HTTPSConnectionPool(host='www.uefa.com', port=443): Max retries exceeded with url: /european-qualifiers/statistics/teams/ (Caused by ReadTimeoutError(\"HTTPSConnectionPool(host='www.uefa.com', port=443): Read timed out. (read timeout=10)\"))\n"
     ]
    }
   ],
   "source": [
    "import requests\n",
    "from bs4 import BeautifulSoup\n",
    "import pandas as pd\n",
    "from requests.adapters import HTTPAdapter\n",
    "from requests.packages.urllib3.util.retry import Retry\n",
    "\n",
    "# URL of the webpage to scrape\n",
    "url = 'https://www.uefa.com/european-qualifiers/statistics/teams/'\n",
    "\n",
    "# Headers to mimic a real browser request\n",
    "headers = {\n",
    "    'User-Agent': 'Mozilla/5.0 (Windows NT 10.0; Win64; x64) AppleWebKit/537.36 (KHTML, like Gecko) Chrome/91.0.4472.124 Safari/537.36',\n",
    "    'Accept-Language': 'en-US,en;q=0.9',\n",
    "    'Accept-Encoding': 'gzip, deflate, br',\n",
    "    'Connection': 'keep-alive',\n",
    "    'Upgrade-Insecure-Requests': '1',\n",
    "    'DNT': '1',  # Do Not Track Request Header\n",
    "    'Accept': 'text/html,application/xhtml+xml,application/xml;q=0.9,image/webp,image/apng,*/*;q=0.8'\n",
    "}\n",
    "\n",
    "# Set up retry strategy\n",
    "retry_strategy = Retry(\n",
    "    total=5,  # Total number of retries\n",
    "    backoff_factor=1,  # Wait 1 second, then 2 seconds, then 4 seconds, etc.\n",
    "    status_forcelist=[429, 500, 502, 503, 504],  # Retry on these status codes\n",
    "    method_whitelist=[\"HEAD\", \"GET\", \"OPTIONS\"]  # Retry for these HTTP methods\n",
    ")\n",
    "\n",
    "adapter = HTTPAdapter(max_retries=retry_strategy)\n",
    "\n",
    "# Create a session\n",
    "session = requests.Session()\n",
    "session.mount(\"https://\", adapter)\n",
    "session.mount(\"http://\", adapter)\n",
    "\n",
    "try:\n",
    "    # Send a GET request to the webpage\n",
    "    response = session.get(url, headers=headers, timeout=10)\n",
    "\n",
    "    # Check if the request was successful\n",
    "    if response.status_code == 200:\n",
    "        # Parse the HTML content of the webpage\n",
    "        soup = BeautifulSoup(response.content, 'html.parser')\n",
    "        \n",
    "        # Find the table containing the team statistics\n",
    "        table = soup.find('table', {'class': 'statistics-table'})\n",
    "\n",
    "        # Extract table headers\n",
    "        headers = [header.text.strip() for header in table.find_all('th')]\n",
    "\n",
    "        # Extract table rows\n",
    "        rows = []\n",
    "        for row in table.find('tbody').find_all('tr'):\n",
    "            columns = [col.text.strip() for col in row.find_all('td')]\n",
    "            rows.append(columns)\n",
    "\n",
    "        # Create a DataFrame from the extracted data\n",
    "        df = pd.DataFrame(rows, columns=headers)\n",
    "\n",
    "        # Save the DataFrame to a CSV file\n",
    "        df.to_csv('uefa_team_statistics.csv', index=False)\n",
    "        print(\"Data has been successfully saved to uefa_team_statistics.csv\")\n",
    "    else:\n",
    "        print(f\"Failed to retrieve the webpage. Status code: {response.status_code}\")\n",
    "\n",
    "except requests.exceptions.RequestException as e:\n",
    "    print(f\"Error during requests to {url}: {str(e)}\")\n"
   ]
  }
 ],
 "metadata": {
  "kernelspec": {
   "display_name": "base",
   "language": "python",
   "name": "python3"
  },
  "language_info": {
   "codemirror_mode": {
    "name": "ipython",
    "version": 3
   },
   "file_extension": ".py",
   "mimetype": "text/x-python",
   "name": "python",
   "nbconvert_exporter": "python",
   "pygments_lexer": "ipython3",
   "version": "3.9.7"
  }
 },
 "nbformat": 4,
 "nbformat_minor": 2
}
