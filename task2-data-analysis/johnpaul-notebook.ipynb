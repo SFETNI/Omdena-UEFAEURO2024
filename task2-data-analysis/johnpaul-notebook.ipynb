{
 "cells": [
  {
   "cell_type": "code",
   "execution_count": 1,
   "metadata": {},
   "outputs": [
    {
     "name": "stdout",
     "output_type": "stream",
     "text": [
      "    Rk        Squad   MP    W    D    L    GF   GA   GD   Pts    xG  xGA  xGD  \\\n",
      "0    F     it Italy  7.0  5.0  2.0  0.0  13.0  4.0  9.0  17.0  13.1  6.0  7.2   \n",
      "1    F  eng England  7.0  5.0  2.0  0.0  11.0  2.0  9.0  17.0  11.0  5.4  5.7   \n",
      "2  NaN          NaN  NaN  NaN  NaN  NaN   NaN  NaN  NaN   NaN   NaN  NaN  NaN   \n",
      "3   SF     es Spain  6.0  2.0  4.0  0.0  13.0  6.0  7.0  10.0  16.7  7.4  9.3   \n",
      "4   SF   dk Denmark  6.0  3.0  0.0  3.0  12.0  7.0  5.0   9.0   9.9  7.1  2.8   \n",
      "\n",
      "   xGD/90                        Top Team Scorer            Goalkeeper  Notes  \n",
      "0    1.02  Lorenzo Insigne, Ciro Immobile... - 2  Gianluigi Donnarumma    NaN  \n",
      "1    0.81                         Harry Kane - 4       Jordan Pickford    NaN  \n",
      "2     NaN                                    NaN                   NaN    NaN  \n",
      "3    1.54                      Álvaro Morata - 3            Unai Simón    NaN  \n",
      "4    0.47                     Kasper Dolberg - 3     Kasper Schmeichel    NaN  \n"
     ]
    }
   ],
   "source": [
    "# Import the necessary libraries\n",
    "import pandas as pd\n",
    "\n",
    "# Read the CSV file\n",
    "data = pd.read_csv('euro_2021_stats.csv')\n",
    "\n",
    "# Print the first few rows of the data\n",
    "print(data.head())\n"
   ]
  },
  {
   "cell_type": "code",
   "execution_count": null,
   "metadata": {},
   "outputs": [],
   "source": []
  }
 ],
 "metadata": {
  "kernelspec": {
   "display_name": "Python 3 (ipykernel)",
   "language": "python",
   "name": "python3"
  },
  "language_info": {
   "codemirror_mode": {
    "name": "ipython",
    "version": 3
   },
   "file_extension": ".py",
   "mimetype": "text/x-python",
   "name": "python",
   "nbconvert_exporter": "python",
   "pygments_lexer": "ipython3",
   "version": "3.10.12"
  }
 },
 "nbformat": 4,
 "nbformat_minor": 4
}
