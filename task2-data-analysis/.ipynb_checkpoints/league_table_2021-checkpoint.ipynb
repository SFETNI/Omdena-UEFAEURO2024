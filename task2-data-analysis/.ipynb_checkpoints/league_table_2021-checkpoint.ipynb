{
  "cells": [
    {
      "cell_type": "code",
      "execution_count": 1,
      "metadata": {
        "id": "_vqIdGoSsAUW"
      },
      "outputs": [],
      "source": [
        "import numpy as np\n",
        "import pandas as pd"
      ]
    },
    {
      "cell_type": "code",
      "execution_count": 2,
      "metadata": {
        "id": "fNw5HS4osAUZ"
      },
      "outputs": [],
      "source": [
        "league_table = pd.read_csv(\"/content/League_Table_2021.csv\")"
      ]
    },
    {
      "cell_type": "code",
      "execution_count": 3,
      "metadata": {
        "colab": {
          "base_uri": "https://localhost:8080/",
          "height": 394
        },
        "id": "QTgVYev2sAUa",
        "outputId": "6d8b17c6-a137-4539-b2de-92a50e5e72a1"
      },
      "outputs": [
        {
          "output_type": "execute_result",
          "data": {
            "text/plain": [
              "  Rank    Squad  Matches Played  Wins  Draws  Losses  Goals For  \\\n",
              "0    F    Italy             7.0   5.0    2.0     0.0       13.0   \n",
              "1    F  England             7.0   5.0    2.0     0.0       11.0   \n",
              "2  NaN      NaN             NaN   NaN    NaN     NaN        NaN   \n",
              "3   SF    Spain             6.0   2.0    4.0     0.0       13.0   \n",
              "4   SF  Denmark             6.0   3.0    0.0     3.0       12.0   \n",
              "\n",
              "   Goals Against  Goal Diff.   Pts  exp. Goals  exp. Goals Allowed  \\\n",
              "0            4.0         9.0  17.0        13.1                 6.0   \n",
              "1            2.0         9.0  17.0        11.0                 5.4   \n",
              "2            NaN         NaN   NaN         NaN                 NaN   \n",
              "3            6.0         7.0  10.0        16.7                 7.4   \n",
              "4            7.0         5.0   9.0         9.9                 7.1   \n",
              "\n",
              "   exp. Goals Diff.  xGD/90                        Top Team Scorer  \\\n",
              "0               7.2    1.02  Lorenzo Insigne, Ciro Immobile... - 2   \n",
              "1               5.7    0.81                         Harry Kane - 4   \n",
              "2               NaN     NaN                                    NaN   \n",
              "3               9.3    1.54                      Álvaro Morata - 3   \n",
              "4               2.8    0.47                     Kasper Dolberg - 3   \n",
              "\n",
              "             Goalkeeper  \n",
              "0  Gianluigi Donnarumma  \n",
              "1       Jordan Pickford  \n",
              "2                   NaN  \n",
              "3            Unai Simón  \n",
              "4     Kasper Schmeichel  "
            ],
            "text/html": [
              "\n",
              "  <div id=\"df-1635a010-385e-4bdc-8f9d-c216a919e40f\" class=\"colab-df-container\">\n",
              "    <div>\n",
              "<style scoped>\n",
              "    .dataframe tbody tr th:only-of-type {\n",
              "        vertical-align: middle;\n",
              "    }\n",
              "\n",
              "    .dataframe tbody tr th {\n",
              "        vertical-align: top;\n",
              "    }\n",
              "\n",
              "    .dataframe thead th {\n",
              "        text-align: right;\n",
              "    }\n",
              "</style>\n",
              "<table border=\"1\" class=\"dataframe\">\n",
              "  <thead>\n",
              "    <tr style=\"text-align: right;\">\n",
              "      <th></th>\n",
              "      <th>Rank</th>\n",
              "      <th>Squad</th>\n",
              "      <th>Matches Played</th>\n",
              "      <th>Wins</th>\n",
              "      <th>Draws</th>\n",
              "      <th>Losses</th>\n",
              "      <th>Goals For</th>\n",
              "      <th>Goals Against</th>\n",
              "      <th>Goal Diff.</th>\n",
              "      <th>Pts</th>\n",
              "      <th>exp. Goals</th>\n",
              "      <th>exp. Goals Allowed</th>\n",
              "      <th>exp. Goals Diff.</th>\n",
              "      <th>xGD/90</th>\n",
              "      <th>Top Team Scorer</th>\n",
              "      <th>Goalkeeper</th>\n",
              "    </tr>\n",
              "  </thead>\n",
              "  <tbody>\n",
              "    <tr>\n",
              "      <th>0</th>\n",
              "      <td>F</td>\n",
              "      <td>Italy</td>\n",
              "      <td>7.0</td>\n",
              "      <td>5.0</td>\n",
              "      <td>2.0</td>\n",
              "      <td>0.0</td>\n",
              "      <td>13.0</td>\n",
              "      <td>4.0</td>\n",
              "      <td>9.0</td>\n",
              "      <td>17.0</td>\n",
              "      <td>13.1</td>\n",
              "      <td>6.0</td>\n",
              "      <td>7.2</td>\n",
              "      <td>1.02</td>\n",
              "      <td>Lorenzo Insigne, Ciro Immobile... - 2</td>\n",
              "      <td>Gianluigi Donnarumma</td>\n",
              "    </tr>\n",
              "    <tr>\n",
              "      <th>1</th>\n",
              "      <td>F</td>\n",
              "      <td>England</td>\n",
              "      <td>7.0</td>\n",
              "      <td>5.0</td>\n",
              "      <td>2.0</td>\n",
              "      <td>0.0</td>\n",
              "      <td>11.0</td>\n",
              "      <td>2.0</td>\n",
              "      <td>9.0</td>\n",
              "      <td>17.0</td>\n",
              "      <td>11.0</td>\n",
              "      <td>5.4</td>\n",
              "      <td>5.7</td>\n",
              "      <td>0.81</td>\n",
              "      <td>Harry Kane - 4</td>\n",
              "      <td>Jordan Pickford</td>\n",
              "    </tr>\n",
              "    <tr>\n",
              "      <th>2</th>\n",
              "      <td>NaN</td>\n",
              "      <td>NaN</td>\n",
              "      <td>NaN</td>\n",
              "      <td>NaN</td>\n",
              "      <td>NaN</td>\n",
              "      <td>NaN</td>\n",
              "      <td>NaN</td>\n",
              "      <td>NaN</td>\n",
              "      <td>NaN</td>\n",
              "      <td>NaN</td>\n",
              "      <td>NaN</td>\n",
              "      <td>NaN</td>\n",
              "      <td>NaN</td>\n",
              "      <td>NaN</td>\n",
              "      <td>NaN</td>\n",
              "      <td>NaN</td>\n",
              "    </tr>\n",
              "    <tr>\n",
              "      <th>3</th>\n",
              "      <td>SF</td>\n",
              "      <td>Spain</td>\n",
              "      <td>6.0</td>\n",
              "      <td>2.0</td>\n",
              "      <td>4.0</td>\n",
              "      <td>0.0</td>\n",
              "      <td>13.0</td>\n",
              "      <td>6.0</td>\n",
              "      <td>7.0</td>\n",
              "      <td>10.0</td>\n",
              "      <td>16.7</td>\n",
              "      <td>7.4</td>\n",
              "      <td>9.3</td>\n",
              "      <td>1.54</td>\n",
              "      <td>Álvaro Morata - 3</td>\n",
              "      <td>Unai Simón</td>\n",
              "    </tr>\n",
              "    <tr>\n",
              "      <th>4</th>\n",
              "      <td>SF</td>\n",
              "      <td>Denmark</td>\n",
              "      <td>6.0</td>\n",
              "      <td>3.0</td>\n",
              "      <td>0.0</td>\n",
              "      <td>3.0</td>\n",
              "      <td>12.0</td>\n",
              "      <td>7.0</td>\n",
              "      <td>5.0</td>\n",
              "      <td>9.0</td>\n",
              "      <td>9.9</td>\n",
              "      <td>7.1</td>\n",
              "      <td>2.8</td>\n",
              "      <td>0.47</td>\n",
              "      <td>Kasper Dolberg - 3</td>\n",
              "      <td>Kasper Schmeichel</td>\n",
              "    </tr>\n",
              "  </tbody>\n",
              "</table>\n",
              "</div>\n",
              "    <div class=\"colab-df-buttons\">\n",
              "\n",
              "  <div class=\"colab-df-container\">\n",
              "    <button class=\"colab-df-convert\" onclick=\"convertToInteractive('df-1635a010-385e-4bdc-8f9d-c216a919e40f')\"\n",
              "            title=\"Convert this dataframe to an interactive table.\"\n",
              "            style=\"display:none;\">\n",
              "\n",
              "  <svg xmlns=\"http://www.w3.org/2000/svg\" height=\"24px\" viewBox=\"0 -960 960 960\">\n",
              "    <path d=\"M120-120v-720h720v720H120Zm60-500h600v-160H180v160Zm220 220h160v-160H400v160Zm0 220h160v-160H400v160ZM180-400h160v-160H180v160Zm440 0h160v-160H620v160ZM180-180h160v-160H180v160Zm440 0h160v-160H620v160Z\"/>\n",
              "  </svg>\n",
              "    </button>\n",
              "\n",
              "  <style>\n",
              "    .colab-df-container {\n",
              "      display:flex;\n",
              "      gap: 12px;\n",
              "    }\n",
              "\n",
              "    .colab-df-convert {\n",
              "      background-color: #E8F0FE;\n",
              "      border: none;\n",
              "      border-radius: 50%;\n",
              "      cursor: pointer;\n",
              "      display: none;\n",
              "      fill: #1967D2;\n",
              "      height: 32px;\n",
              "      padding: 0 0 0 0;\n",
              "      width: 32px;\n",
              "    }\n",
              "\n",
              "    .colab-df-convert:hover {\n",
              "      background-color: #E2EBFA;\n",
              "      box-shadow: 0px 1px 2px rgba(60, 64, 67, 0.3), 0px 1px 3px 1px rgba(60, 64, 67, 0.15);\n",
              "      fill: #174EA6;\n",
              "    }\n",
              "\n",
              "    .colab-df-buttons div {\n",
              "      margin-bottom: 4px;\n",
              "    }\n",
              "\n",
              "    [theme=dark] .colab-df-convert {\n",
              "      background-color: #3B4455;\n",
              "      fill: #D2E3FC;\n",
              "    }\n",
              "\n",
              "    [theme=dark] .colab-df-convert:hover {\n",
              "      background-color: #434B5C;\n",
              "      box-shadow: 0px 1px 3px 1px rgba(0, 0, 0, 0.15);\n",
              "      filter: drop-shadow(0px 1px 2px rgba(0, 0, 0, 0.3));\n",
              "      fill: #FFFFFF;\n",
              "    }\n",
              "  </style>\n",
              "\n",
              "    <script>\n",
              "      const buttonEl =\n",
              "        document.querySelector('#df-1635a010-385e-4bdc-8f9d-c216a919e40f button.colab-df-convert');\n",
              "      buttonEl.style.display =\n",
              "        google.colab.kernel.accessAllowed ? 'block' : 'none';\n",
              "\n",
              "      async function convertToInteractive(key) {\n",
              "        const element = document.querySelector('#df-1635a010-385e-4bdc-8f9d-c216a919e40f');\n",
              "        const dataTable =\n",
              "          await google.colab.kernel.invokeFunction('convertToInteractive',\n",
              "                                                    [key], {});\n",
              "        if (!dataTable) return;\n",
              "\n",
              "        const docLinkHtml = 'Like what you see? Visit the ' +\n",
              "          '<a target=\"_blank\" href=https://colab.research.google.com/notebooks/data_table.ipynb>data table notebook</a>'\n",
              "          + ' to learn more about interactive tables.';\n",
              "        element.innerHTML = '';\n",
              "        dataTable['output_type'] = 'display_data';\n",
              "        await google.colab.output.renderOutput(dataTable, element);\n",
              "        const docLink = document.createElement('div');\n",
              "        docLink.innerHTML = docLinkHtml;\n",
              "        element.appendChild(docLink);\n",
              "      }\n",
              "    </script>\n",
              "  </div>\n",
              "\n",
              "\n",
              "<div id=\"df-d6551f57-0876-4960-bbb0-603b11c934c9\">\n",
              "  <button class=\"colab-df-quickchart\" onclick=\"quickchart('df-d6551f57-0876-4960-bbb0-603b11c934c9')\"\n",
              "            title=\"Suggest charts\"\n",
              "            style=\"display:none;\">\n",
              "\n",
              "<svg xmlns=\"http://www.w3.org/2000/svg\" height=\"24px\"viewBox=\"0 0 24 24\"\n",
              "     width=\"24px\">\n",
              "    <g>\n",
              "        <path d=\"M19 3H5c-1.1 0-2 .9-2 2v14c0 1.1.9 2 2 2h14c1.1 0 2-.9 2-2V5c0-1.1-.9-2-2-2zM9 17H7v-7h2v7zm4 0h-2V7h2v10zm4 0h-2v-4h2v4z\"/>\n",
              "    </g>\n",
              "</svg>\n",
              "  </button>\n",
              "\n",
              "<style>\n",
              "  .colab-df-quickchart {\n",
              "      --bg-color: #E8F0FE;\n",
              "      --fill-color: #1967D2;\n",
              "      --hover-bg-color: #E2EBFA;\n",
              "      --hover-fill-color: #174EA6;\n",
              "      --disabled-fill-color: #AAA;\n",
              "      --disabled-bg-color: #DDD;\n",
              "  }\n",
              "\n",
              "  [theme=dark] .colab-df-quickchart {\n",
              "      --bg-color: #3B4455;\n",
              "      --fill-color: #D2E3FC;\n",
              "      --hover-bg-color: #434B5C;\n",
              "      --hover-fill-color: #FFFFFF;\n",
              "      --disabled-bg-color: #3B4455;\n",
              "      --disabled-fill-color: #666;\n",
              "  }\n",
              "\n",
              "  .colab-df-quickchart {\n",
              "    background-color: var(--bg-color);\n",
              "    border: none;\n",
              "    border-radius: 50%;\n",
              "    cursor: pointer;\n",
              "    display: none;\n",
              "    fill: var(--fill-color);\n",
              "    height: 32px;\n",
              "    padding: 0;\n",
              "    width: 32px;\n",
              "  }\n",
              "\n",
              "  .colab-df-quickchart:hover {\n",
              "    background-color: var(--hover-bg-color);\n",
              "    box-shadow: 0 1px 2px rgba(60, 64, 67, 0.3), 0 1px 3px 1px rgba(60, 64, 67, 0.15);\n",
              "    fill: var(--button-hover-fill-color);\n",
              "  }\n",
              "\n",
              "  .colab-df-quickchart-complete:disabled,\n",
              "  .colab-df-quickchart-complete:disabled:hover {\n",
              "    background-color: var(--disabled-bg-color);\n",
              "    fill: var(--disabled-fill-color);\n",
              "    box-shadow: none;\n",
              "  }\n",
              "\n",
              "  .colab-df-spinner {\n",
              "    border: 2px solid var(--fill-color);\n",
              "    border-color: transparent;\n",
              "    border-bottom-color: var(--fill-color);\n",
              "    animation:\n",
              "      spin 1s steps(1) infinite;\n",
              "  }\n",
              "\n",
              "  @keyframes spin {\n",
              "    0% {\n",
              "      border-color: transparent;\n",
              "      border-bottom-color: var(--fill-color);\n",
              "      border-left-color: var(--fill-color);\n",
              "    }\n",
              "    20% {\n",
              "      border-color: transparent;\n",
              "      border-left-color: var(--fill-color);\n",
              "      border-top-color: var(--fill-color);\n",
              "    }\n",
              "    30% {\n",
              "      border-color: transparent;\n",
              "      border-left-color: var(--fill-color);\n",
              "      border-top-color: var(--fill-color);\n",
              "      border-right-color: var(--fill-color);\n",
              "    }\n",
              "    40% {\n",
              "      border-color: transparent;\n",
              "      border-right-color: var(--fill-color);\n",
              "      border-top-color: var(--fill-color);\n",
              "    }\n",
              "    60% {\n",
              "      border-color: transparent;\n",
              "      border-right-color: var(--fill-color);\n",
              "    }\n",
              "    80% {\n",
              "      border-color: transparent;\n",
              "      border-right-color: var(--fill-color);\n",
              "      border-bottom-color: var(--fill-color);\n",
              "    }\n",
              "    90% {\n",
              "      border-color: transparent;\n",
              "      border-bottom-color: var(--fill-color);\n",
              "    }\n",
              "  }\n",
              "</style>\n",
              "\n",
              "  <script>\n",
              "    async function quickchart(key) {\n",
              "      const quickchartButtonEl =\n",
              "        document.querySelector('#' + key + ' button');\n",
              "      quickchartButtonEl.disabled = true;  // To prevent multiple clicks.\n",
              "      quickchartButtonEl.classList.add('colab-df-spinner');\n",
              "      try {\n",
              "        const charts = await google.colab.kernel.invokeFunction(\n",
              "            'suggestCharts', [key], {});\n",
              "      } catch (error) {\n",
              "        console.error('Error during call to suggestCharts:', error);\n",
              "      }\n",
              "      quickchartButtonEl.classList.remove('colab-df-spinner');\n",
              "      quickchartButtonEl.classList.add('colab-df-quickchart-complete');\n",
              "    }\n",
              "    (() => {\n",
              "      let quickchartButtonEl =\n",
              "        document.querySelector('#df-d6551f57-0876-4960-bbb0-603b11c934c9 button');\n",
              "      quickchartButtonEl.style.display =\n",
              "        google.colab.kernel.accessAllowed ? 'block' : 'none';\n",
              "    })();\n",
              "  </script>\n",
              "</div>\n",
              "\n",
              "    </div>\n",
              "  </div>\n"
            ],
            "application/vnd.google.colaboratory.intrinsic+json": {
              "type": "dataframe",
              "variable_name": "league_table",
              "summary": "{\n  \"name\": \"league_table\",\n  \"rows\": 28,\n  \"fields\": [\n    {\n      \"column\": \"Rank\",\n      \"properties\": {\n        \"dtype\": \"category\",\n        \"num_unique_values\": 5,\n        \"samples\": [\n          \"SF\",\n          \"GR\",\n          \"QF\"\n        ],\n        \"semantic_type\": \"\",\n        \"description\": \"\"\n      }\n    },\n    {\n      \"column\": \"Squad\",\n      \"properties\": {\n        \"dtype\": \"string\",\n        \"num_unique_values\": 24,\n        \"samples\": [\n          \"Netherlands\",\n          \"Finland\",\n          \"Italy\"\n        ],\n        \"semantic_type\": \"\",\n        \"description\": \"\"\n      }\n    },\n    {\n      \"column\": \"Matches Played\",\n      \"properties\": {\n        \"dtype\": \"number\",\n        \"std\": 1.2597446256043843,\n        \"min\": 3.0,\n        \"max\": 7.0,\n        \"num_unique_values\": 5,\n        \"samples\": [\n          6.0,\n          3.0,\n          5.0\n        ],\n        \"semantic_type\": \"\",\n        \"description\": \"\"\n      }\n    },\n    {\n      \"column\": \"Wins\",\n      \"properties\": {\n        \"dtype\": \"number\",\n        \"std\": 1.4688800821211287,\n        \"min\": 0.0,\n        \"max\": 5.0,\n        \"num_unique_values\": 6,\n        \"samples\": [\n          5.0,\n          2.0,\n          0.0\n        ],\n        \"semantic_type\": \"\",\n        \"description\": \"\"\n      }\n    },\n    {\n      \"column\": \"Draws\",\n      \"properties\": {\n        \"dtype\": \"number\",\n        \"std\": 1.1420804814403216,\n        \"min\": 0.0,\n        \"max\": 4.0,\n        \"num_unique_values\": 5,\n        \"samples\": [\n          4.0,\n          3.0,\n          0.0\n        ],\n        \"semantic_type\": \"\",\n        \"description\": \"\"\n      }\n    },\n    {\n      \"column\": \"Losses\",\n      \"properties\": {\n        \"dtype\": \"number\",\n        \"std\": 0.9696480760071398,\n        \"min\": 0.0,\n        \"max\": 3.0,\n        \"num_unique_values\": 4,\n        \"samples\": [\n          3.0,\n          2.0,\n          0.0\n        ],\n        \"semantic_type\": \"\",\n        \"description\": \"\"\n      }\n    },\n    {\n      \"column\": \"Goals For\",\n      \"properties\": {\n        \"dtype\": \"number\",\n        \"std\": 3.7638632635454052,\n        \"min\": 1.0,\n        \"max\": 13.0,\n        \"num_unique_values\": 12,\n        \"samples\": [\n          2.0,\n          1.0,\n          13.0\n        ],\n        \"semantic_type\": \"\",\n        \"description\": \"\"\n      }\n    },\n    {\n      \"column\": \"Goals Against\",\n      \"properties\": {\n        \"dtype\": \"number\",\n        \"std\": 2.0198292365760864,\n        \"min\": 2.0,\n        \"max\": 10.0,\n        \"num_unique_values\": 9,\n        \"samples\": [\n          5.0,\n          2.0,\n          9.0\n        ],\n        \"semantic_type\": \"\",\n        \"description\": \"\"\n      }\n    },\n    {\n      \"column\": \"Goal Diff.\",\n      \"properties\": {\n        \"dtype\": \"number\",\n        \"std\": 4.615663313770509,\n        \"min\": -7.0,\n        \"max\": 9.0,\n        \"num_unique_values\": 15,\n        \"samples\": [\n          0.0,\n          -2.0,\n          9.0\n        ],\n        \"semantic_type\": \"\",\n        \"description\": \"\"\n      }\n    },\n    {\n      \"column\": \"Pts\",\n      \"properties\": {\n        \"dtype\": \"number\",\n        \"std\": 4.637395258397617,\n        \"min\": 0.0,\n        \"max\": 17.0,\n        \"num_unique_values\": 11,\n        \"samples\": [\n          6.0,\n          17.0,\n          1.0\n        ],\n        \"semantic_type\": \"\",\n        \"description\": \"\"\n      }\n    },\n    {\n      \"column\": \"exp. Goals\",\n      \"properties\": {\n        \"dtype\": \"number\",\n        \"std\": 3.763610566032785,\n        \"min\": 1.0,\n        \"max\": 16.7,\n        \"num_unique_values\": 20,\n        \"samples\": [\n          13.1,\n          4.6,\n          2.3\n        ],\n        \"semantic_type\": \"\",\n        \"description\": \"\"\n      }\n    },\n    {\n      \"column\": \"exp. Goals Allowed\",\n      \"properties\": {\n        \"dtype\": \"number\",\n        \"std\": 1.697947396805578,\n        \"min\": 3.6,\n        \"max\": 10.6,\n        \"num_unique_values\": 19,\n        \"samples\": [\n          6.0,\n          10.6,\n          4.9\n        ],\n        \"semantic_type\": \"\",\n        \"description\": \"\"\n      }\n    },\n    {\n      \"column\": \"exp. Goals Diff.\",\n      \"properties\": {\n        \"dtype\": \"number\",\n        \"std\": 4.031928728953715,\n        \"min\": -5.6,\n        \"max\": 9.3,\n        \"num_unique_values\": 24,\n        \"samples\": [\n          4.6,\n          -2.9,\n          7.2\n        ],\n        \"semantic_type\": \"\",\n        \"description\": \"\"\n      }\n    },\n    {\n      \"column\": \"xGD/90\",\n      \"properties\": {\n        \"dtype\": \"number\",\n        \"std\": 0.9629333204901288,\n        \"min\": -1.86,\n        \"max\": 1.54,\n        \"num_unique_values\": 23,\n        \"samples\": [\n          -0.77,\n          -0.35,\n          1.02\n        ],\n        \"semantic_type\": \"\",\n        \"description\": \"\"\n      }\n    },\n    {\n      \"column\": \"Top Team Scorer\",\n      \"properties\": {\n        \"dtype\": \"string\",\n        \"num_unique_values\": 24,\n        \"samples\": [\n          \"Georginio Wijnaldum - 3\",\n          \"Joel Pohjanpalo - 1\",\n          \"Lorenzo Insigne, Ciro Immobile... - 2\"\n        ],\n        \"semantic_type\": \"\",\n        \"description\": \"\"\n      }\n    },\n    {\n      \"column\": \"Goalkeeper\",\n      \"properties\": {\n        \"dtype\": \"string\",\n        \"num_unique_values\": 24,\n        \"samples\": [\n          \"Maarten Stekelenburg\",\n          \"Luk\\u00e1\\u0161 Hr\\u00e1deck\\u00fd\",\n          \"Gianluigi Donnarumma\"\n        ],\n        \"semantic_type\": \"\",\n        \"description\": \"\"\n      }\n    }\n  ]\n}"
            }
          },
          "metadata": {},
          "execution_count": 3
        }
      ],
      "source": [
        "league_table.head()"
      ]
    },
    {
      "cell_type": "code",
      "execution_count": 4,
      "metadata": {
        "colab": {
          "base_uri": "https://localhost:8080/",
          "height": 411
        },
        "id": "nPj4ZSaIsAUb",
        "outputId": "262b3429-71d3-49f9-81c1-7840aa057c82"
      },
      "outputs": [
        {
          "output_type": "execute_result",
          "data": {
            "text/plain": [
              "   Rank         Squad  Matches Played  Wins  Draws  Losses  Goals For  \\\n",
              "23   GR       Hungary             3.0   0.0    2.0     1.0        3.0   \n",
              "24   GR        Poland             3.0   0.0    1.0     2.0        4.0   \n",
              "25   GR      Scotland             3.0   0.0    1.0     2.0        1.0   \n",
              "26   GR  N. Macedonia             3.0   0.0    0.0     3.0        2.0   \n",
              "27   GR        Turkey             3.0   0.0    0.0     3.0        1.0   \n",
              "\n",
              "    Goals Against  Goal Diff.  Pts  exp. Goals  exp. Goals Allowed  \\\n",
              "23            6.0        -3.0  2.0         1.5                 6.7   \n",
              "24            6.0        -2.0  1.0         4.6                 4.4   \n",
              "25            5.0        -4.0  1.0         3.9                 3.6   \n",
              "26            8.0        -6.0  0.0         3.0                 8.5   \n",
              "27            8.0        -7.0  0.0         3.0                 7.4   \n",
              "\n",
              "    exp. Goals Diff.  xGD/90                   Top Team Scorer  \\\n",
              "23              -5.3   -1.76  Ádám Szalai, Attila Fiola... - 1   \n",
              "24               0.2    0.07            Robert Lewandowski - 3   \n",
              "25               0.3    0.11               Callum McGregor - 1   \n",
              "26              -5.5   -1.84  Goran Pandev, Ezgjan Alioski - 1   \n",
              "27              -4.4   -1.47                 İrfan Kahveci - 1   \n",
              "\n",
              "            Goalkeeper  \n",
              "23       Péter Gulácsi  \n",
              "24   Wojciech Szczęsny  \n",
              "25      David Marshall  \n",
              "26  Stole Dimitrievski  \n",
              "27       Uğurcan Çakır  "
            ],
            "text/html": [
              "\n",
              "  <div id=\"df-153df4b3-cccd-4921-bae4-b257f1d2dded\" class=\"colab-df-container\">\n",
              "    <div>\n",
              "<style scoped>\n",
              "    .dataframe tbody tr th:only-of-type {\n",
              "        vertical-align: middle;\n",
              "    }\n",
              "\n",
              "    .dataframe tbody tr th {\n",
              "        vertical-align: top;\n",
              "    }\n",
              "\n",
              "    .dataframe thead th {\n",
              "        text-align: right;\n",
              "    }\n",
              "</style>\n",
              "<table border=\"1\" class=\"dataframe\">\n",
              "  <thead>\n",
              "    <tr style=\"text-align: right;\">\n",
              "      <th></th>\n",
              "      <th>Rank</th>\n",
              "      <th>Squad</th>\n",
              "      <th>Matches Played</th>\n",
              "      <th>Wins</th>\n",
              "      <th>Draws</th>\n",
              "      <th>Losses</th>\n",
              "      <th>Goals For</th>\n",
              "      <th>Goals Against</th>\n",
              "      <th>Goal Diff.</th>\n",
              "      <th>Pts</th>\n",
              "      <th>exp. Goals</th>\n",
              "      <th>exp. Goals Allowed</th>\n",
              "      <th>exp. Goals Diff.</th>\n",
              "      <th>xGD/90</th>\n",
              "      <th>Top Team Scorer</th>\n",
              "      <th>Goalkeeper</th>\n",
              "    </tr>\n",
              "  </thead>\n",
              "  <tbody>\n",
              "    <tr>\n",
              "      <th>23</th>\n",
              "      <td>GR</td>\n",
              "      <td>Hungary</td>\n",
              "      <td>3.0</td>\n",
              "      <td>0.0</td>\n",
              "      <td>2.0</td>\n",
              "      <td>1.0</td>\n",
              "      <td>3.0</td>\n",
              "      <td>6.0</td>\n",
              "      <td>-3.0</td>\n",
              "      <td>2.0</td>\n",
              "      <td>1.5</td>\n",
              "      <td>6.7</td>\n",
              "      <td>-5.3</td>\n",
              "      <td>-1.76</td>\n",
              "      <td>Ádám Szalai, Attila Fiola... - 1</td>\n",
              "      <td>Péter Gulácsi</td>\n",
              "    </tr>\n",
              "    <tr>\n",
              "      <th>24</th>\n",
              "      <td>GR</td>\n",
              "      <td>Poland</td>\n",
              "      <td>3.0</td>\n",
              "      <td>0.0</td>\n",
              "      <td>1.0</td>\n",
              "      <td>2.0</td>\n",
              "      <td>4.0</td>\n",
              "      <td>6.0</td>\n",
              "      <td>-2.0</td>\n",
              "      <td>1.0</td>\n",
              "      <td>4.6</td>\n",
              "      <td>4.4</td>\n",
              "      <td>0.2</td>\n",
              "      <td>0.07</td>\n",
              "      <td>Robert Lewandowski - 3</td>\n",
              "      <td>Wojciech Szczęsny</td>\n",
              "    </tr>\n",
              "    <tr>\n",
              "      <th>25</th>\n",
              "      <td>GR</td>\n",
              "      <td>Scotland</td>\n",
              "      <td>3.0</td>\n",
              "      <td>0.0</td>\n",
              "      <td>1.0</td>\n",
              "      <td>2.0</td>\n",
              "      <td>1.0</td>\n",
              "      <td>5.0</td>\n",
              "      <td>-4.0</td>\n",
              "      <td>1.0</td>\n",
              "      <td>3.9</td>\n",
              "      <td>3.6</td>\n",
              "      <td>0.3</td>\n",
              "      <td>0.11</td>\n",
              "      <td>Callum McGregor - 1</td>\n",
              "      <td>David Marshall</td>\n",
              "    </tr>\n",
              "    <tr>\n",
              "      <th>26</th>\n",
              "      <td>GR</td>\n",
              "      <td>N. Macedonia</td>\n",
              "      <td>3.0</td>\n",
              "      <td>0.0</td>\n",
              "      <td>0.0</td>\n",
              "      <td>3.0</td>\n",
              "      <td>2.0</td>\n",
              "      <td>8.0</td>\n",
              "      <td>-6.0</td>\n",
              "      <td>0.0</td>\n",
              "      <td>3.0</td>\n",
              "      <td>8.5</td>\n",
              "      <td>-5.5</td>\n",
              "      <td>-1.84</td>\n",
              "      <td>Goran Pandev, Ezgjan Alioski - 1</td>\n",
              "      <td>Stole Dimitrievski</td>\n",
              "    </tr>\n",
              "    <tr>\n",
              "      <th>27</th>\n",
              "      <td>GR</td>\n",
              "      <td>Turkey</td>\n",
              "      <td>3.0</td>\n",
              "      <td>0.0</td>\n",
              "      <td>0.0</td>\n",
              "      <td>3.0</td>\n",
              "      <td>1.0</td>\n",
              "      <td>8.0</td>\n",
              "      <td>-7.0</td>\n",
              "      <td>0.0</td>\n",
              "      <td>3.0</td>\n",
              "      <td>7.4</td>\n",
              "      <td>-4.4</td>\n",
              "      <td>-1.47</td>\n",
              "      <td>İrfan Kahveci - 1</td>\n",
              "      <td>Uğurcan Çakır</td>\n",
              "    </tr>\n",
              "  </tbody>\n",
              "</table>\n",
              "</div>\n",
              "    <div class=\"colab-df-buttons\">\n",
              "\n",
              "  <div class=\"colab-df-container\">\n",
              "    <button class=\"colab-df-convert\" onclick=\"convertToInteractive('df-153df4b3-cccd-4921-bae4-b257f1d2dded')\"\n",
              "            title=\"Convert this dataframe to an interactive table.\"\n",
              "            style=\"display:none;\">\n",
              "\n",
              "  <svg xmlns=\"http://www.w3.org/2000/svg\" height=\"24px\" viewBox=\"0 -960 960 960\">\n",
              "    <path d=\"M120-120v-720h720v720H120Zm60-500h600v-160H180v160Zm220 220h160v-160H400v160Zm0 220h160v-160H400v160ZM180-400h160v-160H180v160Zm440 0h160v-160H620v160ZM180-180h160v-160H180v160Zm440 0h160v-160H620v160Z\"/>\n",
              "  </svg>\n",
              "    </button>\n",
              "\n",
              "  <style>\n",
              "    .colab-df-container {\n",
              "      display:flex;\n",
              "      gap: 12px;\n",
              "    }\n",
              "\n",
              "    .colab-df-convert {\n",
              "      background-color: #E8F0FE;\n",
              "      border: none;\n",
              "      border-radius: 50%;\n",
              "      cursor: pointer;\n",
              "      display: none;\n",
              "      fill: #1967D2;\n",
              "      height: 32px;\n",
              "      padding: 0 0 0 0;\n",
              "      width: 32px;\n",
              "    }\n",
              "\n",
              "    .colab-df-convert:hover {\n",
              "      background-color: #E2EBFA;\n",
              "      box-shadow: 0px 1px 2px rgba(60, 64, 67, 0.3), 0px 1px 3px 1px rgba(60, 64, 67, 0.15);\n",
              "      fill: #174EA6;\n",
              "    }\n",
              "\n",
              "    .colab-df-buttons div {\n",
              "      margin-bottom: 4px;\n",
              "    }\n",
              "\n",
              "    [theme=dark] .colab-df-convert {\n",
              "      background-color: #3B4455;\n",
              "      fill: #D2E3FC;\n",
              "    }\n",
              "\n",
              "    [theme=dark] .colab-df-convert:hover {\n",
              "      background-color: #434B5C;\n",
              "      box-shadow: 0px 1px 3px 1px rgba(0, 0, 0, 0.15);\n",
              "      filter: drop-shadow(0px 1px 2px rgba(0, 0, 0, 0.3));\n",
              "      fill: #FFFFFF;\n",
              "    }\n",
              "  </style>\n",
              "\n",
              "    <script>\n",
              "      const buttonEl =\n",
              "        document.querySelector('#df-153df4b3-cccd-4921-bae4-b257f1d2dded button.colab-df-convert');\n",
              "      buttonEl.style.display =\n",
              "        google.colab.kernel.accessAllowed ? 'block' : 'none';\n",
              "\n",
              "      async function convertToInteractive(key) {\n",
              "        const element = document.querySelector('#df-153df4b3-cccd-4921-bae4-b257f1d2dded');\n",
              "        const dataTable =\n",
              "          await google.colab.kernel.invokeFunction('convertToInteractive',\n",
              "                                                    [key], {});\n",
              "        if (!dataTable) return;\n",
              "\n",
              "        const docLinkHtml = 'Like what you see? Visit the ' +\n",
              "          '<a target=\"_blank\" href=https://colab.research.google.com/notebooks/data_table.ipynb>data table notebook</a>'\n",
              "          + ' to learn more about interactive tables.';\n",
              "        element.innerHTML = '';\n",
              "        dataTable['output_type'] = 'display_data';\n",
              "        await google.colab.output.renderOutput(dataTable, element);\n",
              "        const docLink = document.createElement('div');\n",
              "        docLink.innerHTML = docLinkHtml;\n",
              "        element.appendChild(docLink);\n",
              "      }\n",
              "    </script>\n",
              "  </div>\n",
              "\n",
              "\n",
              "<div id=\"df-09ec74a2-55cb-49b1-b7d4-f3032285d5f9\">\n",
              "  <button class=\"colab-df-quickchart\" onclick=\"quickchart('df-09ec74a2-55cb-49b1-b7d4-f3032285d5f9')\"\n",
              "            title=\"Suggest charts\"\n",
              "            style=\"display:none;\">\n",
              "\n",
              "<svg xmlns=\"http://www.w3.org/2000/svg\" height=\"24px\"viewBox=\"0 0 24 24\"\n",
              "     width=\"24px\">\n",
              "    <g>\n",
              "        <path d=\"M19 3H5c-1.1 0-2 .9-2 2v14c0 1.1.9 2 2 2h14c1.1 0 2-.9 2-2V5c0-1.1-.9-2-2-2zM9 17H7v-7h2v7zm4 0h-2V7h2v10zm4 0h-2v-4h2v4z\"/>\n",
              "    </g>\n",
              "</svg>\n",
              "  </button>\n",
              "\n",
              "<style>\n",
              "  .colab-df-quickchart {\n",
              "      --bg-color: #E8F0FE;\n",
              "      --fill-color: #1967D2;\n",
              "      --hover-bg-color: #E2EBFA;\n",
              "      --hover-fill-color: #174EA6;\n",
              "      --disabled-fill-color: #AAA;\n",
              "      --disabled-bg-color: #DDD;\n",
              "  }\n",
              "\n",
              "  [theme=dark] .colab-df-quickchart {\n",
              "      --bg-color: #3B4455;\n",
              "      --fill-color: #D2E3FC;\n",
              "      --hover-bg-color: #434B5C;\n",
              "      --hover-fill-color: #FFFFFF;\n",
              "      --disabled-bg-color: #3B4455;\n",
              "      --disabled-fill-color: #666;\n",
              "  }\n",
              "\n",
              "  .colab-df-quickchart {\n",
              "    background-color: var(--bg-color);\n",
              "    border: none;\n",
              "    border-radius: 50%;\n",
              "    cursor: pointer;\n",
              "    display: none;\n",
              "    fill: var(--fill-color);\n",
              "    height: 32px;\n",
              "    padding: 0;\n",
              "    width: 32px;\n",
              "  }\n",
              "\n",
              "  .colab-df-quickchart:hover {\n",
              "    background-color: var(--hover-bg-color);\n",
              "    box-shadow: 0 1px 2px rgba(60, 64, 67, 0.3), 0 1px 3px 1px rgba(60, 64, 67, 0.15);\n",
              "    fill: var(--button-hover-fill-color);\n",
              "  }\n",
              "\n",
              "  .colab-df-quickchart-complete:disabled,\n",
              "  .colab-df-quickchart-complete:disabled:hover {\n",
              "    background-color: var(--disabled-bg-color);\n",
              "    fill: var(--disabled-fill-color);\n",
              "    box-shadow: none;\n",
              "  }\n",
              "\n",
              "  .colab-df-spinner {\n",
              "    border: 2px solid var(--fill-color);\n",
              "    border-color: transparent;\n",
              "    border-bottom-color: var(--fill-color);\n",
              "    animation:\n",
              "      spin 1s steps(1) infinite;\n",
              "  }\n",
              "\n",
              "  @keyframes spin {\n",
              "    0% {\n",
              "      border-color: transparent;\n",
              "      border-bottom-color: var(--fill-color);\n",
              "      border-left-color: var(--fill-color);\n",
              "    }\n",
              "    20% {\n",
              "      border-color: transparent;\n",
              "      border-left-color: var(--fill-color);\n",
              "      border-top-color: var(--fill-color);\n",
              "    }\n",
              "    30% {\n",
              "      border-color: transparent;\n",
              "      border-left-color: var(--fill-color);\n",
              "      border-top-color: var(--fill-color);\n",
              "      border-right-color: var(--fill-color);\n",
              "    }\n",
              "    40% {\n",
              "      border-color: transparent;\n",
              "      border-right-color: var(--fill-color);\n",
              "      border-top-color: var(--fill-color);\n",
              "    }\n",
              "    60% {\n",
              "      border-color: transparent;\n",
              "      border-right-color: var(--fill-color);\n",
              "    }\n",
              "    80% {\n",
              "      border-color: transparent;\n",
              "      border-right-color: var(--fill-color);\n",
              "      border-bottom-color: var(--fill-color);\n",
              "    }\n",
              "    90% {\n",
              "      border-color: transparent;\n",
              "      border-bottom-color: var(--fill-color);\n",
              "    }\n",
              "  }\n",
              "</style>\n",
              "\n",
              "  <script>\n",
              "    async function quickchart(key) {\n",
              "      const quickchartButtonEl =\n",
              "        document.querySelector('#' + key + ' button');\n",
              "      quickchartButtonEl.disabled = true;  // To prevent multiple clicks.\n",
              "      quickchartButtonEl.classList.add('colab-df-spinner');\n",
              "      try {\n",
              "        const charts = await google.colab.kernel.invokeFunction(\n",
              "            'suggestCharts', [key], {});\n",
              "      } catch (error) {\n",
              "        console.error('Error during call to suggestCharts:', error);\n",
              "      }\n",
              "      quickchartButtonEl.classList.remove('colab-df-spinner');\n",
              "      quickchartButtonEl.classList.add('colab-df-quickchart-complete');\n",
              "    }\n",
              "    (() => {\n",
              "      let quickchartButtonEl =\n",
              "        document.querySelector('#df-09ec74a2-55cb-49b1-b7d4-f3032285d5f9 button');\n",
              "      quickchartButtonEl.style.display =\n",
              "        google.colab.kernel.accessAllowed ? 'block' : 'none';\n",
              "    })();\n",
              "  </script>\n",
              "</div>\n",
              "\n",
              "    </div>\n",
              "  </div>\n"
            ],
            "application/vnd.google.colaboratory.intrinsic+json": {
              "type": "dataframe",
              "summary": "{\n  \"name\": \"league_table\",\n  \"rows\": 5,\n  \"fields\": [\n    {\n      \"column\": \"Rank\",\n      \"properties\": {\n        \"dtype\": \"category\",\n        \"num_unique_values\": 1,\n        \"samples\": [\n          \"GR\"\n        ],\n        \"semantic_type\": \"\",\n        \"description\": \"\"\n      }\n    },\n    {\n      \"column\": \"Squad\",\n      \"properties\": {\n        \"dtype\": \"string\",\n        \"num_unique_values\": 5,\n        \"samples\": [\n          \"Poland\"\n        ],\n        \"semantic_type\": \"\",\n        \"description\": \"\"\n      }\n    },\n    {\n      \"column\": \"Matches Played\",\n      \"properties\": {\n        \"dtype\": \"number\",\n        \"std\": 0.0,\n        \"min\": 3.0,\n        \"max\": 3.0,\n        \"num_unique_values\": 1,\n        \"samples\": [\n          3.0\n        ],\n        \"semantic_type\": \"\",\n        \"description\": \"\"\n      }\n    },\n    {\n      \"column\": \"Wins\",\n      \"properties\": {\n        \"dtype\": \"number\",\n        \"std\": 0.0,\n        \"min\": 0.0,\n        \"max\": 0.0,\n        \"num_unique_values\": 1,\n        \"samples\": [\n          0.0\n        ],\n        \"semantic_type\": \"\",\n        \"description\": \"\"\n      }\n    },\n    {\n      \"column\": \"Draws\",\n      \"properties\": {\n        \"dtype\": \"number\",\n        \"std\": 0.8366600265340756,\n        \"min\": 0.0,\n        \"max\": 2.0,\n        \"num_unique_values\": 3,\n        \"samples\": [\n          2.0\n        ],\n        \"semantic_type\": \"\",\n        \"description\": \"\"\n      }\n    },\n    {\n      \"column\": \"Losses\",\n      \"properties\": {\n        \"dtype\": \"number\",\n        \"std\": 0.8366600265340756,\n        \"min\": 1.0,\n        \"max\": 3.0,\n        \"num_unique_values\": 3,\n        \"samples\": [\n          1.0\n        ],\n        \"semantic_type\": \"\",\n        \"description\": \"\"\n      }\n    },\n    {\n      \"column\": \"Goals For\",\n      \"properties\": {\n        \"dtype\": \"number\",\n        \"std\": 1.3038404810405297,\n        \"min\": 1.0,\n        \"max\": 4.0,\n        \"num_unique_values\": 4,\n        \"samples\": [\n          4.0\n        ],\n        \"semantic_type\": \"\",\n        \"description\": \"\"\n      }\n    },\n    {\n      \"column\": \"Goals Against\",\n      \"properties\": {\n        \"dtype\": \"number\",\n        \"std\": 1.3416407864998738,\n        \"min\": 5.0,\n        \"max\": 8.0,\n        \"num_unique_values\": 3,\n        \"samples\": [\n          6.0\n        ],\n        \"semantic_type\": \"\",\n        \"description\": \"\"\n      }\n    },\n    {\n      \"column\": \"Goal Diff.\",\n      \"properties\": {\n        \"dtype\": \"number\",\n        \"std\": 2.073644135332772,\n        \"min\": -7.0,\n        \"max\": -2.0,\n        \"num_unique_values\": 5,\n        \"samples\": [\n          -2.0\n        ],\n        \"semantic_type\": \"\",\n        \"description\": \"\"\n      }\n    },\n    {\n      \"column\": \"Pts\",\n      \"properties\": {\n        \"dtype\": \"number\",\n        \"std\": 0.8366600265340756,\n        \"min\": 0.0,\n        \"max\": 2.0,\n        \"num_unique_values\": 3,\n        \"samples\": [\n          2.0\n        ],\n        \"semantic_type\": \"\",\n        \"description\": \"\"\n      }\n    },\n    {\n      \"column\": \"exp. Goals\",\n      \"properties\": {\n        \"dtype\": \"number\",\n        \"std\": 1.1640446726822813,\n        \"min\": 1.5,\n        \"max\": 4.6,\n        \"num_unique_values\": 4,\n        \"samples\": [\n          4.6\n        ],\n        \"semantic_type\": \"\",\n        \"description\": \"\"\n      }\n    },\n    {\n      \"column\": \"exp. Goals Allowed\",\n      \"properties\": {\n        \"dtype\": \"number\",\n        \"std\": 2.0583974348992955,\n        \"min\": 3.6,\n        \"max\": 8.5,\n        \"num_unique_values\": 5,\n        \"samples\": [\n          4.4\n        ],\n        \"semantic_type\": \"\",\n        \"description\": \"\"\n      }\n    },\n    {\n      \"column\": \"exp. Goals Diff.\",\n      \"properties\": {\n        \"dtype\": \"number\",\n        \"std\": 2.941598205057924,\n        \"min\": -5.5,\n        \"max\": 0.3,\n        \"num_unique_values\": 5,\n        \"samples\": [\n          0.2\n        ],\n        \"semantic_type\": \"\",\n        \"description\": \"\"\n      }\n    },\n    {\n      \"column\": \"xGD/90\",\n      \"properties\": {\n        \"dtype\": \"number\",\n        \"std\": 0.9847182338110736,\n        \"min\": -1.84,\n        \"max\": 0.11,\n        \"num_unique_values\": 5,\n        \"samples\": [\n          0.07\n        ],\n        \"semantic_type\": \"\",\n        \"description\": \"\"\n      }\n    },\n    {\n      \"column\": \"Top Team Scorer\",\n      \"properties\": {\n        \"dtype\": \"string\",\n        \"num_unique_values\": 5,\n        \"samples\": [\n          \"Robert Lewandowski - 3\"\n        ],\n        \"semantic_type\": \"\",\n        \"description\": \"\"\n      }\n    },\n    {\n      \"column\": \"Goalkeeper\",\n      \"properties\": {\n        \"dtype\": \"string\",\n        \"num_unique_values\": 5,\n        \"samples\": [\n          \"Wojciech Szcz\\u0119sny\"\n        ],\n        \"semantic_type\": \"\",\n        \"description\": \"\"\n      }\n    }\n  ]\n}"
            }
          },
          "metadata": {},
          "execution_count": 4
        }
      ],
      "source": [
        "league_table.tail()"
      ]
    },
    {
      "cell_type": "code",
      "execution_count": 5,
      "metadata": {
        "colab": {
          "base_uri": "https://localhost:8080/"
        },
        "id": "yQ-qxVu5sAUb",
        "outputId": "97875c36-7ede-459b-89e8-0e7298af1671"
      },
      "outputs": [
        {
          "output_type": "execute_result",
          "data": {
            "text/plain": [
              "Rank                  4\n",
              "Squad                 4\n",
              "Matches Played        4\n",
              "Wins                  4\n",
              "Draws                 4\n",
              "Losses                4\n",
              "Goals For             4\n",
              "Goals Against         4\n",
              "Goal Diff.            4\n",
              "Pts                   4\n",
              "exp. Goals            4\n",
              "exp. Goals Allowed    4\n",
              "exp. Goals Diff.      4\n",
              "xGD/90                4\n",
              "Top Team Scorer       4\n",
              "Goalkeeper            4\n",
              "dtype: int64"
            ]
          },
          "metadata": {},
          "execution_count": 5
        }
      ],
      "source": [
        "league_table.isna().sum()"
      ]
    },
    {
      "cell_type": "code",
      "execution_count": 6,
      "metadata": {
        "colab": {
          "base_uri": "https://localhost:8080/"
        },
        "id": "KhWOpx9DsAUb",
        "outputId": "d6b98891-cfdb-49c5-b07c-a48b39caed59"
      },
      "outputs": [
        {
          "output_type": "stream",
          "name": "stdout",
          "text": [
            "<class 'pandas.core.frame.DataFrame'>\n",
            "RangeIndex: 28 entries, 0 to 27\n",
            "Data columns (total 16 columns):\n",
            " #   Column              Non-Null Count  Dtype  \n",
            "---  ------              --------------  -----  \n",
            " 0   Rank                24 non-null     object \n",
            " 1   Squad               24 non-null     object \n",
            " 2   Matches Played      24 non-null     float64\n",
            " 3   Wins                24 non-null     float64\n",
            " 4   Draws               24 non-null     float64\n",
            " 5   Losses              24 non-null     float64\n",
            " 6   Goals For           24 non-null     float64\n",
            " 7   Goals Against       24 non-null     float64\n",
            " 8   Goal Diff.          24 non-null     float64\n",
            " 9   Pts                 24 non-null     float64\n",
            " 10  exp. Goals          24 non-null     float64\n",
            " 11  exp. Goals Allowed  24 non-null     float64\n",
            " 12  exp. Goals Diff.    24 non-null     float64\n",
            " 13  xGD/90              24 non-null     float64\n",
            " 14  Top Team Scorer     24 non-null     object \n",
            " 15  Goalkeeper          24 non-null     object \n",
            "dtypes: float64(12), object(4)\n",
            "memory usage: 3.6+ KB\n"
          ]
        }
      ],
      "source": [
        "league_table.info()"
      ]
    },
    {
      "cell_type": "code",
      "execution_count": 7,
      "metadata": {
        "colab": {
          "base_uri": "https://localhost:8080/"
        },
        "id": "4CAt8CjfsAUc",
        "outputId": "34cfc7f4-130b-409b-dc87-3041a489b4a0"
      },
      "outputs": [
        {
          "output_type": "execute_result",
          "data": {
            "text/plain": [
              "Matches Played\n",
              "4.0    8\n",
              "3.0    8\n",
              "5.0    4\n",
              "7.0    2\n",
              "6.0    2\n",
              "Name: count, dtype: int64"
            ]
          },
          "metadata": {},
          "execution_count": 7
        }
      ],
      "source": [
        "league_table['Matches Played'].value_counts()"
      ]
    },
    {
      "cell_type": "code",
      "execution_count": 8,
      "metadata": {
        "colab": {
          "base_uri": "https://localhost:8080/"
        },
        "id": "2jaOFztSsAUc",
        "outputId": "f95f23eb-6a5d-47c0-a186-01201a21c082"
      },
      "outputs": [
        {
          "output_type": "execute_result",
          "data": {
            "text/plain": [
              "Wins\n",
              "1.0    9\n",
              "2.0    5\n",
              "0.0    5\n",
              "5.0    2\n",
              "3.0    2\n",
              "4.0    1\n",
              "Name: count, dtype: int64"
            ]
          },
          "metadata": {},
          "execution_count": 8
        }
      ],
      "source": [
        "league_table['Wins'].value_counts()"
      ]
    },
    {
      "cell_type": "code",
      "execution_count": 9,
      "metadata": {
        "colab": {
          "base_uri": "https://localhost:8080/"
        },
        "id": "-Cmesv2gsAUd",
        "outputId": "e11012aa-1593-4d5e-f351-be892a4245c0"
      },
      "outputs": [
        {
          "output_type": "execute_result",
          "data": {
            "text/plain": [
              "Draws\n",
              "0.0    10\n",
              "1.0     8\n",
              "2.0     3\n",
              "3.0     2\n",
              "4.0     1\n",
              "Name: count, dtype: int64"
            ]
          },
          "metadata": {},
          "execution_count": 9
        }
      ],
      "source": [
        "league_table['Draws'].value_counts()"
      ]
    },
    {
      "cell_type": "code",
      "execution_count": 10,
      "metadata": {
        "colab": {
          "base_uri": "https://localhost:8080/"
        },
        "id": "4DimBygdsAUd",
        "outputId": "d63c94d4-3680-414a-d02b-abbfd72c248d"
      },
      "outputs": [
        {
          "output_type": "execute_result",
          "data": {
            "text/plain": [
              "Losses\n",
              "2.0    11\n",
              "1.0     5\n",
              "0.0     4\n",
              "3.0     4\n",
              "Name: count, dtype: int64"
            ]
          },
          "metadata": {},
          "execution_count": 10
        }
      ],
      "source": [
        "league_table['Losses'].value_counts()"
      ]
    },
    {
      "cell_type": "code",
      "execution_count": 11,
      "metadata": {
        "colab": {
          "base_uri": "https://localhost:8080/"
        },
        "id": "8cAixbNgsAUd",
        "outputId": "44a93d81-c773-4ed9-8503-382b313bbf9d"
      },
      "outputs": [
        {
          "output_type": "execute_result",
          "data": {
            "text/plain": [
              "Top Team Scorer\n",
              "Lorenzo Insigne, Ciro Immobile... - 2     1\n",
              "Harry Kane - 4                            1\n",
              "Goran Pandev, Ezgjan Alioski - 1          1\n",
              "Callum McGregor - 1                       1\n",
              "Robert Lewandowski - 3                    1\n",
              "Ádám Szalai, Attila Fiola... - 1          1\n",
              "Milan Škriniar - 1                        1\n",
              "Aleksei Miranchuk, Artem Dzyuba - 1       1\n",
              "Joel Pohjanpalo - 1                       1\n",
              "Aaron Ramsey, Kieffer Moore... - 1        1\n",
              "Kai Havertz - 2                           1\n",
              "Ivan Perišić - 2                          1\n",
              "Cristiano Ronaldo - 5                     1\n",
              "Marko Arnautović, Stefan Lainer... - 1    1\n",
              "Karim Benzema - 4                         1\n",
              "Emil Forsberg - 4                         1\n",
              "Georginio Wijnaldum - 3                   1\n",
              "Andriy Yarmolenko, Roman Yaremchuk - 2    1\n",
              "Xherdan Shaqiri, Haris Seferović - 3      1\n",
              "Patrik Schick - 5                         1\n",
              "Romelu Lukaku - 4                         1\n",
              "Kasper Dolberg - 3                        1\n",
              "Álvaro Morata - 3                         1\n",
              "İrfan Kahveci - 1                         1\n",
              "Name: count, dtype: int64"
            ]
          },
          "metadata": {},
          "execution_count": 11
        }
      ],
      "source": [
        "league_table['Top Team Scorer'].value_counts()"
      ]
    },
    {
      "cell_type": "code",
      "execution_count": 12,
      "metadata": {
        "colab": {
          "base_uri": "https://localhost:8080/"
        },
        "id": "mqotpSZDsAUd",
        "outputId": "2f609099-da89-404b-fa72-77b206d4ed8d"
      },
      "outputs": [
        {
          "output_type": "execute_result",
          "data": {
            "text/plain": [
              "Goalkeeper\n",
              "Gianluigi Donnarumma    1\n",
              "Jordan Pickford         1\n",
              "Stole Dimitrievski      1\n",
              "David Marshall          1\n",
              "Wojciech Szczęsny       1\n",
              "Péter Gulácsi           1\n",
              "Martin Dúbravka         1\n",
              "Matvei Safonov          1\n",
              "Lukáš Hrádecký          1\n",
              "Danny Ward              1\n",
              "Manuel Neuer            1\n",
              "Dominik Livaković       1\n",
              "Rui Patrício            1\n",
              "Daniel Bachmann         1\n",
              "Hugo Lloris             1\n",
              "Robin Olsen             1\n",
              "Maarten Stekelenburg    1\n",
              "Heorhiy Bushchan        1\n",
              "Yann Sommer             1\n",
              "Tomáš Vaclík            1\n",
              "Thibaut Courtois        1\n",
              "Kasper Schmeichel       1\n",
              "Unai Simón              1\n",
              "Uğurcan Çakır           1\n",
              "Name: count, dtype: int64"
            ]
          },
          "metadata": {},
          "execution_count": 12
        }
      ],
      "source": [
        "league_table['Goalkeeper'].value_counts()"
      ]
    },
    {
      "cell_type": "code",
      "execution_count": 13,
      "metadata": {
        "colab": {
          "base_uri": "https://localhost:8080/"
        },
        "id": "XYF-YZ4isAUe",
        "outputId": "87f3c40a-24b2-493b-d3b2-3980386a3754"
      },
      "outputs": [
        {
          "output_type": "execute_result",
          "data": {
            "text/plain": [
              "Rank\n",
              "R16    8\n",
              "GR     8\n",
              "QF     4\n",
              "F      2\n",
              "SF     2\n",
              "Name: count, dtype: int64"
            ]
          },
          "metadata": {},
          "execution_count": 13
        }
      ],
      "source": [
        "league_table['Rank'].value_counts()"
      ]
    },
    {
      "cell_type": "code",
      "execution_count": 14,
      "metadata": {
        "colab": {
          "base_uri": "https://localhost:8080/"
        },
        "id": "ksYwALQRsAUe",
        "outputId": "da7b05ce-872a-4262-cece-950c3572b2ca"
      },
      "outputs": [
        {
          "output_type": "execute_result",
          "data": {
            "text/plain": [
              "Squad\n",
              "Italy           1\n",
              "England         1\n",
              "N. Macedonia    1\n",
              "Scotland        1\n",
              "Poland          1\n",
              "Hungary         1\n",
              "Slovakia        1\n",
              "Russia          1\n",
              "Finland         1\n",
              "Wales           1\n",
              "Germany         1\n",
              "Croatia         1\n",
              "Portugal        1\n",
              "Austria         1\n",
              "France          1\n",
              "Sweden          1\n",
              "Netherlands     1\n",
              "Ukraine         1\n",
              "Switzerland     1\n",
              "Czechia         1\n",
              "Belgium         1\n",
              "Denmark         1\n",
              "Spain           1\n",
              "Turkey          1\n",
              "Name: count, dtype: int64"
            ]
          },
          "metadata": {},
          "execution_count": 14
        }
      ],
      "source": [
        "league_table['Squad'].value_counts()"
      ]
    },
    {
      "cell_type": "code",
      "execution_count": 15,
      "metadata": {
        "colab": {
          "base_uri": "https://localhost:8080/",
          "height": 351
        },
        "id": "paB8GQxosAUe",
        "outputId": "d0b0918a-90a7-4d3f-e66a-6b0b48c7c2a0"
      },
      "outputs": [
        {
          "output_type": "execute_result",
          "data": {
            "text/plain": [
              "       Matches Played      Wins     Draws     Losses  Goals For  \\\n",
              "count       24.000000  24.00000  24.00000  24.000000  24.000000   \n",
              "mean         4.250000   1.62500   1.00000   1.625000   5.916667   \n",
              "std          1.259745   1.46888   1.14208   0.969648   3.763863   \n",
              "min          3.000000   0.00000   0.00000   0.000000   1.000000   \n",
              "25%          3.000000   1.00000   0.00000   1.000000   2.750000   \n",
              "50%          4.000000   1.00000   1.00000   2.000000   6.000000   \n",
              "75%          5.000000   2.00000   1.25000   2.000000   8.000000   \n",
              "max          7.000000   5.00000   4.00000   3.000000  13.000000   \n",
              "\n",
              "       Goals Against  Goal Diff.        Pts  exp. Goals  exp. Goals Allowed  \\\n",
              "count      24.000000   24.000000  24.000000   24.000000           24.000000   \n",
              "mean        5.916667    0.000000   5.875000    6.195833            6.195833   \n",
              "std         2.019829    4.615663   4.637395    3.763611            1.697947   \n",
              "min         2.000000   -7.000000   0.000000    1.000000            3.600000   \n",
              "25%         4.000000   -3.250000   3.000000    3.675000            4.800000   \n",
              "50%         6.000000   -1.000000   5.000000    5.700000            6.250000   \n",
              "75%         7.000000    2.500000   7.500000    7.600000            7.400000   \n",
              "max        10.000000    9.000000  17.000000   16.700000           10.600000   \n",
              "\n",
              "       exp. Goals Diff.     xGD/90  \n",
              "count         24.000000  24.000000  \n",
              "mean          -0.008333  -0.176667  \n",
              "std            4.031929   0.962933  \n",
              "min           -5.600000  -1.860000  \n",
              "25%           -2.950000  -0.710000  \n",
              "50%           -0.650000  -0.140000  \n",
              "75%            2.650000   0.590000  \n",
              "max            9.300000   1.540000  "
            ],
            "text/html": [
              "\n",
              "  <div id=\"df-cb218ec2-79f6-4a24-aeee-7cb628c8ecaa\" class=\"colab-df-container\">\n",
              "    <div>\n",
              "<style scoped>\n",
              "    .dataframe tbody tr th:only-of-type {\n",
              "        vertical-align: middle;\n",
              "    }\n",
              "\n",
              "    .dataframe tbody tr th {\n",
              "        vertical-align: top;\n",
              "    }\n",
              "\n",
              "    .dataframe thead th {\n",
              "        text-align: right;\n",
              "    }\n",
              "</style>\n",
              "<table border=\"1\" class=\"dataframe\">\n",
              "  <thead>\n",
              "    <tr style=\"text-align: right;\">\n",
              "      <th></th>\n",
              "      <th>Matches Played</th>\n",
              "      <th>Wins</th>\n",
              "      <th>Draws</th>\n",
              "      <th>Losses</th>\n",
              "      <th>Goals For</th>\n",
              "      <th>Goals Against</th>\n",
              "      <th>Goal Diff.</th>\n",
              "      <th>Pts</th>\n",
              "      <th>exp. Goals</th>\n",
              "      <th>exp. Goals Allowed</th>\n",
              "      <th>exp. Goals Diff.</th>\n",
              "      <th>xGD/90</th>\n",
              "    </tr>\n",
              "  </thead>\n",
              "  <tbody>\n",
              "    <tr>\n",
              "      <th>count</th>\n",
              "      <td>24.000000</td>\n",
              "      <td>24.00000</td>\n",
              "      <td>24.00000</td>\n",
              "      <td>24.000000</td>\n",
              "      <td>24.000000</td>\n",
              "      <td>24.000000</td>\n",
              "      <td>24.000000</td>\n",
              "      <td>24.000000</td>\n",
              "      <td>24.000000</td>\n",
              "      <td>24.000000</td>\n",
              "      <td>24.000000</td>\n",
              "      <td>24.000000</td>\n",
              "    </tr>\n",
              "    <tr>\n",
              "      <th>mean</th>\n",
              "      <td>4.250000</td>\n",
              "      <td>1.62500</td>\n",
              "      <td>1.00000</td>\n",
              "      <td>1.625000</td>\n",
              "      <td>5.916667</td>\n",
              "      <td>5.916667</td>\n",
              "      <td>0.000000</td>\n",
              "      <td>5.875000</td>\n",
              "      <td>6.195833</td>\n",
              "      <td>6.195833</td>\n",
              "      <td>-0.008333</td>\n",
              "      <td>-0.176667</td>\n",
              "    </tr>\n",
              "    <tr>\n",
              "      <th>std</th>\n",
              "      <td>1.259745</td>\n",
              "      <td>1.46888</td>\n",
              "      <td>1.14208</td>\n",
              "      <td>0.969648</td>\n",
              "      <td>3.763863</td>\n",
              "      <td>2.019829</td>\n",
              "      <td>4.615663</td>\n",
              "      <td>4.637395</td>\n",
              "      <td>3.763611</td>\n",
              "      <td>1.697947</td>\n",
              "      <td>4.031929</td>\n",
              "      <td>0.962933</td>\n",
              "    </tr>\n",
              "    <tr>\n",
              "      <th>min</th>\n",
              "      <td>3.000000</td>\n",
              "      <td>0.00000</td>\n",
              "      <td>0.00000</td>\n",
              "      <td>0.000000</td>\n",
              "      <td>1.000000</td>\n",
              "      <td>2.000000</td>\n",
              "      <td>-7.000000</td>\n",
              "      <td>0.000000</td>\n",
              "      <td>1.000000</td>\n",
              "      <td>3.600000</td>\n",
              "      <td>-5.600000</td>\n",
              "      <td>-1.860000</td>\n",
              "    </tr>\n",
              "    <tr>\n",
              "      <th>25%</th>\n",
              "      <td>3.000000</td>\n",
              "      <td>1.00000</td>\n",
              "      <td>0.00000</td>\n",
              "      <td>1.000000</td>\n",
              "      <td>2.750000</td>\n",
              "      <td>4.000000</td>\n",
              "      <td>-3.250000</td>\n",
              "      <td>3.000000</td>\n",
              "      <td>3.675000</td>\n",
              "      <td>4.800000</td>\n",
              "      <td>-2.950000</td>\n",
              "      <td>-0.710000</td>\n",
              "    </tr>\n",
              "    <tr>\n",
              "      <th>50%</th>\n",
              "      <td>4.000000</td>\n",
              "      <td>1.00000</td>\n",
              "      <td>1.00000</td>\n",
              "      <td>2.000000</td>\n",
              "      <td>6.000000</td>\n",
              "      <td>6.000000</td>\n",
              "      <td>-1.000000</td>\n",
              "      <td>5.000000</td>\n",
              "      <td>5.700000</td>\n",
              "      <td>6.250000</td>\n",
              "      <td>-0.650000</td>\n",
              "      <td>-0.140000</td>\n",
              "    </tr>\n",
              "    <tr>\n",
              "      <th>75%</th>\n",
              "      <td>5.000000</td>\n",
              "      <td>2.00000</td>\n",
              "      <td>1.25000</td>\n",
              "      <td>2.000000</td>\n",
              "      <td>8.000000</td>\n",
              "      <td>7.000000</td>\n",
              "      <td>2.500000</td>\n",
              "      <td>7.500000</td>\n",
              "      <td>7.600000</td>\n",
              "      <td>7.400000</td>\n",
              "      <td>2.650000</td>\n",
              "      <td>0.590000</td>\n",
              "    </tr>\n",
              "    <tr>\n",
              "      <th>max</th>\n",
              "      <td>7.000000</td>\n",
              "      <td>5.00000</td>\n",
              "      <td>4.00000</td>\n",
              "      <td>3.000000</td>\n",
              "      <td>13.000000</td>\n",
              "      <td>10.000000</td>\n",
              "      <td>9.000000</td>\n",
              "      <td>17.000000</td>\n",
              "      <td>16.700000</td>\n",
              "      <td>10.600000</td>\n",
              "      <td>9.300000</td>\n",
              "      <td>1.540000</td>\n",
              "    </tr>\n",
              "  </tbody>\n",
              "</table>\n",
              "</div>\n",
              "    <div class=\"colab-df-buttons\">\n",
              "\n",
              "  <div class=\"colab-df-container\">\n",
              "    <button class=\"colab-df-convert\" onclick=\"convertToInteractive('df-cb218ec2-79f6-4a24-aeee-7cb628c8ecaa')\"\n",
              "            title=\"Convert this dataframe to an interactive table.\"\n",
              "            style=\"display:none;\">\n",
              "\n",
              "  <svg xmlns=\"http://www.w3.org/2000/svg\" height=\"24px\" viewBox=\"0 -960 960 960\">\n",
              "    <path d=\"M120-120v-720h720v720H120Zm60-500h600v-160H180v160Zm220 220h160v-160H400v160Zm0 220h160v-160H400v160ZM180-400h160v-160H180v160Zm440 0h160v-160H620v160ZM180-180h160v-160H180v160Zm440 0h160v-160H620v160Z\"/>\n",
              "  </svg>\n",
              "    </button>\n",
              "\n",
              "  <style>\n",
              "    .colab-df-container {\n",
              "      display:flex;\n",
              "      gap: 12px;\n",
              "    }\n",
              "\n",
              "    .colab-df-convert {\n",
              "      background-color: #E8F0FE;\n",
              "      border: none;\n",
              "      border-radius: 50%;\n",
              "      cursor: pointer;\n",
              "      display: none;\n",
              "      fill: #1967D2;\n",
              "      height: 32px;\n",
              "      padding: 0 0 0 0;\n",
              "      width: 32px;\n",
              "    }\n",
              "\n",
              "    .colab-df-convert:hover {\n",
              "      background-color: #E2EBFA;\n",
              "      box-shadow: 0px 1px 2px rgba(60, 64, 67, 0.3), 0px 1px 3px 1px rgba(60, 64, 67, 0.15);\n",
              "      fill: #174EA6;\n",
              "    }\n",
              "\n",
              "    .colab-df-buttons div {\n",
              "      margin-bottom: 4px;\n",
              "    }\n",
              "\n",
              "    [theme=dark] .colab-df-convert {\n",
              "      background-color: #3B4455;\n",
              "      fill: #D2E3FC;\n",
              "    }\n",
              "\n",
              "    [theme=dark] .colab-df-convert:hover {\n",
              "      background-color: #434B5C;\n",
              "      box-shadow: 0px 1px 3px 1px rgba(0, 0, 0, 0.15);\n",
              "      filter: drop-shadow(0px 1px 2px rgba(0, 0, 0, 0.3));\n",
              "      fill: #FFFFFF;\n",
              "    }\n",
              "  </style>\n",
              "\n",
              "    <script>\n",
              "      const buttonEl =\n",
              "        document.querySelector('#df-cb218ec2-79f6-4a24-aeee-7cb628c8ecaa button.colab-df-convert');\n",
              "      buttonEl.style.display =\n",
              "        google.colab.kernel.accessAllowed ? 'block' : 'none';\n",
              "\n",
              "      async function convertToInteractive(key) {\n",
              "        const element = document.querySelector('#df-cb218ec2-79f6-4a24-aeee-7cb628c8ecaa');\n",
              "        const dataTable =\n",
              "          await google.colab.kernel.invokeFunction('convertToInteractive',\n",
              "                                                    [key], {});\n",
              "        if (!dataTable) return;\n",
              "\n",
              "        const docLinkHtml = 'Like what you see? Visit the ' +\n",
              "          '<a target=\"_blank\" href=https://colab.research.google.com/notebooks/data_table.ipynb>data table notebook</a>'\n",
              "          + ' to learn more about interactive tables.';\n",
              "        element.innerHTML = '';\n",
              "        dataTable['output_type'] = 'display_data';\n",
              "        await google.colab.output.renderOutput(dataTable, element);\n",
              "        const docLink = document.createElement('div');\n",
              "        docLink.innerHTML = docLinkHtml;\n",
              "        element.appendChild(docLink);\n",
              "      }\n",
              "    </script>\n",
              "  </div>\n",
              "\n",
              "\n",
              "<div id=\"df-fb46f5ef-6813-4a7f-8a6a-20b4d60e027b\">\n",
              "  <button class=\"colab-df-quickchart\" onclick=\"quickchart('df-fb46f5ef-6813-4a7f-8a6a-20b4d60e027b')\"\n",
              "            title=\"Suggest charts\"\n",
              "            style=\"display:none;\">\n",
              "\n",
              "<svg xmlns=\"http://www.w3.org/2000/svg\" height=\"24px\"viewBox=\"0 0 24 24\"\n",
              "     width=\"24px\">\n",
              "    <g>\n",
              "        <path d=\"M19 3H5c-1.1 0-2 .9-2 2v14c0 1.1.9 2 2 2h14c1.1 0 2-.9 2-2V5c0-1.1-.9-2-2-2zM9 17H7v-7h2v7zm4 0h-2V7h2v10zm4 0h-2v-4h2v4z\"/>\n",
              "    </g>\n",
              "</svg>\n",
              "  </button>\n",
              "\n",
              "<style>\n",
              "  .colab-df-quickchart {\n",
              "      --bg-color: #E8F0FE;\n",
              "      --fill-color: #1967D2;\n",
              "      --hover-bg-color: #E2EBFA;\n",
              "      --hover-fill-color: #174EA6;\n",
              "      --disabled-fill-color: #AAA;\n",
              "      --disabled-bg-color: #DDD;\n",
              "  }\n",
              "\n",
              "  [theme=dark] .colab-df-quickchart {\n",
              "      --bg-color: #3B4455;\n",
              "      --fill-color: #D2E3FC;\n",
              "      --hover-bg-color: #434B5C;\n",
              "      --hover-fill-color: #FFFFFF;\n",
              "      --disabled-bg-color: #3B4455;\n",
              "      --disabled-fill-color: #666;\n",
              "  }\n",
              "\n",
              "  .colab-df-quickchart {\n",
              "    background-color: var(--bg-color);\n",
              "    border: none;\n",
              "    border-radius: 50%;\n",
              "    cursor: pointer;\n",
              "    display: none;\n",
              "    fill: var(--fill-color);\n",
              "    height: 32px;\n",
              "    padding: 0;\n",
              "    width: 32px;\n",
              "  }\n",
              "\n",
              "  .colab-df-quickchart:hover {\n",
              "    background-color: var(--hover-bg-color);\n",
              "    box-shadow: 0 1px 2px rgba(60, 64, 67, 0.3), 0 1px 3px 1px rgba(60, 64, 67, 0.15);\n",
              "    fill: var(--button-hover-fill-color);\n",
              "  }\n",
              "\n",
              "  .colab-df-quickchart-complete:disabled,\n",
              "  .colab-df-quickchart-complete:disabled:hover {\n",
              "    background-color: var(--disabled-bg-color);\n",
              "    fill: var(--disabled-fill-color);\n",
              "    box-shadow: none;\n",
              "  }\n",
              "\n",
              "  .colab-df-spinner {\n",
              "    border: 2px solid var(--fill-color);\n",
              "    border-color: transparent;\n",
              "    border-bottom-color: var(--fill-color);\n",
              "    animation:\n",
              "      spin 1s steps(1) infinite;\n",
              "  }\n",
              "\n",
              "  @keyframes spin {\n",
              "    0% {\n",
              "      border-color: transparent;\n",
              "      border-bottom-color: var(--fill-color);\n",
              "      border-left-color: var(--fill-color);\n",
              "    }\n",
              "    20% {\n",
              "      border-color: transparent;\n",
              "      border-left-color: var(--fill-color);\n",
              "      border-top-color: var(--fill-color);\n",
              "    }\n",
              "    30% {\n",
              "      border-color: transparent;\n",
              "      border-left-color: var(--fill-color);\n",
              "      border-top-color: var(--fill-color);\n",
              "      border-right-color: var(--fill-color);\n",
              "    }\n",
              "    40% {\n",
              "      border-color: transparent;\n",
              "      border-right-color: var(--fill-color);\n",
              "      border-top-color: var(--fill-color);\n",
              "    }\n",
              "    60% {\n",
              "      border-color: transparent;\n",
              "      border-right-color: var(--fill-color);\n",
              "    }\n",
              "    80% {\n",
              "      border-color: transparent;\n",
              "      border-right-color: var(--fill-color);\n",
              "      border-bottom-color: var(--fill-color);\n",
              "    }\n",
              "    90% {\n",
              "      border-color: transparent;\n",
              "      border-bottom-color: var(--fill-color);\n",
              "    }\n",
              "  }\n",
              "</style>\n",
              "\n",
              "  <script>\n",
              "    async function quickchart(key) {\n",
              "      const quickchartButtonEl =\n",
              "        document.querySelector('#' + key + ' button');\n",
              "      quickchartButtonEl.disabled = true;  // To prevent multiple clicks.\n",
              "      quickchartButtonEl.classList.add('colab-df-spinner');\n",
              "      try {\n",
              "        const charts = await google.colab.kernel.invokeFunction(\n",
              "            'suggestCharts', [key], {});\n",
              "      } catch (error) {\n",
              "        console.error('Error during call to suggestCharts:', error);\n",
              "      }\n",
              "      quickchartButtonEl.classList.remove('colab-df-spinner');\n",
              "      quickchartButtonEl.classList.add('colab-df-quickchart-complete');\n",
              "    }\n",
              "    (() => {\n",
              "      let quickchartButtonEl =\n",
              "        document.querySelector('#df-fb46f5ef-6813-4a7f-8a6a-20b4d60e027b button');\n",
              "      quickchartButtonEl.style.display =\n",
              "        google.colab.kernel.accessAllowed ? 'block' : 'none';\n",
              "    })();\n",
              "  </script>\n",
              "</div>\n",
              "\n",
              "    </div>\n",
              "  </div>\n"
            ],
            "application/vnd.google.colaboratory.intrinsic+json": {
              "type": "dataframe",
              "summary": "{\n  \"name\": \"league_table\",\n  \"rows\": 8,\n  \"fields\": [\n    {\n      \"column\": \"Matches Played\",\n      \"properties\": {\n        \"dtype\": \"number\",\n        \"std\": 7.289843547188166,\n        \"min\": 1.2597446256043843,\n        \"max\": 24.0,\n        \"num_unique_values\": 7,\n        \"samples\": [\n          24.0,\n          4.25,\n          5.0\n        ],\n        \"semantic_type\": \"\",\n        \"description\": \"\"\n      }\n    },\n    {\n      \"column\": \"Wins\",\n      \"properties\": {\n        \"dtype\": \"number\",\n        \"std\": 8.008497373529787,\n        \"min\": 0.0,\n        \"max\": 24.0,\n        \"num_unique_values\": 7,\n        \"samples\": [\n          24.0,\n          1.625,\n          2.0\n        ],\n        \"semantic_type\": \"\",\n        \"description\": \"\"\n      }\n    },\n    {\n      \"column\": \"Draws\",\n      \"properties\": {\n        \"dtype\": \"number\",\n        \"std\": 8.156601078588116,\n        \"min\": 0.0,\n        \"max\": 24.0,\n        \"num_unique_values\": 6,\n        \"samples\": [\n          24.0,\n          1.0,\n          4.0\n        ],\n        \"semantic_type\": \"\",\n        \"description\": \"\"\n      }\n    },\n    {\n      \"column\": \"Losses\",\n      \"properties\": {\n        \"dtype\": \"number\",\n        \"std\": 7.9998404712081275,\n        \"min\": 0.0,\n        \"max\": 24.0,\n        \"num_unique_values\": 7,\n        \"samples\": [\n          24.0,\n          1.625,\n          2.0\n        ],\n        \"semantic_type\": \"\",\n        \"description\": \"\"\n      }\n    },\n    {\n      \"column\": \"Goals For\",\n      \"properties\": {\n        \"dtype\": \"number\",\n        \"std\": 7.404867730323623,\n        \"min\": 1.0,\n        \"max\": 24.0,\n        \"num_unique_values\": 8,\n        \"samples\": [\n          5.916666666666667,\n          6.0,\n          24.0\n        ],\n        \"semantic_type\": \"\",\n        \"description\": \"\"\n      }\n    },\n    {\n      \"column\": \"Goals Against\",\n      \"properties\": {\n        \"dtype\": \"number\",\n        \"std\": 7.130714129420618,\n        \"min\": 2.0,\n        \"max\": 24.0,\n        \"num_unique_values\": 8,\n        \"samples\": [\n          5.916666666666667,\n          6.0,\n          24.0\n        ],\n        \"semantic_type\": \"\",\n        \"description\": \"\"\n      }\n    },\n    {\n      \"column\": \"Goal Diff.\",\n      \"properties\": {\n        \"dtype\": \"number\",\n        \"std\": 9.569023931475773,\n        \"min\": -7.0,\n        \"max\": 24.0,\n        \"num_unique_values\": 8,\n        \"samples\": [\n          0.0,\n          -1.0,\n          24.0\n        ],\n        \"semantic_type\": \"\",\n        \"description\": \"\"\n      }\n    },\n    {\n      \"column\": \"Pts\",\n      \"properties\": {\n        \"dtype\": \"number\",\n        \"std\": 8.017288640353106,\n        \"min\": 0.0,\n        \"max\": 24.0,\n        \"num_unique_values\": 8,\n        \"samples\": [\n          5.875,\n          5.0,\n          24.0\n        ],\n        \"semantic_type\": \"\",\n        \"description\": \"\"\n      }\n    },\n    {\n      \"column\": \"exp. Goals\",\n      \"properties\": {\n        \"dtype\": \"number\",\n        \"std\": 7.776915281003072,\n        \"min\": 1.0,\n        \"max\": 24.0,\n        \"num_unique_values\": 8,\n        \"samples\": [\n          6.195833333333333,\n          5.7,\n          24.0\n        ],\n        \"semantic_type\": \"\",\n        \"description\": \"\"\n      }\n    },\n    {\n      \"column\": \"exp. Goals Allowed\",\n      \"properties\": {\n        \"dtype\": \"number\",\n        \"std\": 6.956152694755012,\n        \"min\": 1.697947396805578,\n        \"max\": 24.0,\n        \"num_unique_values\": 8,\n        \"samples\": [\n          6.195833333333333,\n          6.25,\n          24.0\n        ],\n        \"semantic_type\": \"\",\n        \"description\": \"\"\n      }\n    },\n    {\n      \"column\": \"exp. Goals Diff.\",\n      \"properties\": {\n        \"dtype\": \"number\",\n        \"std\": 9.318777104190827,\n        \"min\": -5.6,\n        \"max\": 24.0,\n        \"num_unique_values\": 8,\n        \"samples\": [\n          -0.00833333333333323,\n          -0.65,\n          24.0\n        ],\n        \"semantic_type\": \"\",\n        \"description\": \"\"\n      }\n    },\n    {\n      \"column\": \"xGD/90\",\n      \"properties\": {\n        \"dtype\": \"number\",\n        \"std\": 8.539141254300866,\n        \"min\": -1.86,\n        \"max\": 24.0,\n        \"num_unique_values\": 8,\n        \"samples\": [\n          -0.17666666666666664,\n          -0.14,\n          24.0\n        ],\n        \"semantic_type\": \"\",\n        \"description\": \"\"\n      }\n    }\n  ]\n}"
            }
          },
          "metadata": {},
          "execution_count": 15
        }
      ],
      "source": [
        "league_table.describe()"
      ]
    },
    {
      "cell_type": "code",
      "execution_count": 16,
      "metadata": {
        "colab": {
          "base_uri": "https://localhost:8080/",
          "height": 591
        },
        "id": "qHO7aRjvsAUe",
        "outputId": "cb729fa9-f74d-4a38-bc94-273c370f130c"
      },
      "outputs": [
        {
          "output_type": "stream",
          "name": "stdout",
          "text": [
            "Rank\n",
            "R16    8\n",
            "GR     8\n",
            "QF     4\n",
            "F      2\n",
            "SF     2\n",
            "Name: count, dtype: int64\n"
          ]
        },
        {
          "output_type": "display_data",
          "data": {
            "text/plain": [
              "<Figure size 640x480 with 1 Axes>"
            ],
            "image/png": "[encoded data removed]"
          },
          "metadata": {}
        }
      ],
      "source": [
        "import matplotlib.pyplot as plt\n",
        "import seaborn as sns\n",
        "print(league_table['Rank'].value_counts())\n",
        "sns.countplot(y='Rank', data=league_table, order=league_table['Rank'].value_counts().index)\n",
        "plt.title('Frequency Distribution of Ranks')\n",
        "plt.xlabel('Count')\n",
        "plt.ylabel('Rank')\n",
        "plt.show()"
      ]
    },
    {
      "cell_type": "code",
      "execution_count": 17,
      "metadata": {
        "colab": {
          "base_uri": "https://localhost:8080/",
          "height": 591
        },
        "id": "cIq4L0cdsAUf",
        "outputId": "24a8cc67-9c46-42ac-bf3c-6b3db756c551"
      },
      "outputs": [
        {
          "output_type": "stream",
          "name": "stdout",
          "text": [
            "Rank\n",
            "R16    8\n",
            "GR     8\n",
            "QF     4\n",
            "F      2\n",
            "SF     2\n",
            "Name: count, dtype: int64\n"
          ]
        },
        {
          "output_type": "display_data",
          "data": {
            "text/plain": [
              "<Figure size 640x480 with 1 Axes>"
            ],
            "image/png": "[encoded data removed]"
          },
          "metadata": {}
        }
      ],
      "source": [
        "print(league_table['Rank'].value_counts())\n",
        "sns.countplot(y='Squad', data=league_table, order=league_table['Squad'].value_counts().index)\n",
        "plt.title('Frequency Distribution of Squad')\n",
        "plt.xlabel('Count')\n",
        "plt.ylabel('Squad')\n",
        "plt.show()"
      ]
    },
    {
      "cell_type": "code",
      "execution_count": 18,
      "metadata": {
        "colab": {
          "base_uri": "https://localhost:8080/",
          "height": 472
        },
        "id": "C3N4dnXysAUf",
        "outputId": "7f81e8b5-4319-42a0-fb30-561d656f2dc1"
      },
      "outputs": [
        {
          "output_type": "display_data",
          "data": {
            "text/plain": [
              "<Figure size 640x480 with 1 Axes>"
            ],
            "image/png": "[encoded data removed]"
          },
          "metadata": {}
        }
      ],
      "source": [
        "match_outcomes = league_table.groupby(['Wins', 'Losses']).size().reset_index(name='counts')\n",
        "sns.barplot(x='Wins', y='counts',  data=match_outcomes)\n",
        "plt.title('Match Outcomes: wins vs. losses')\n",
        "plt.xlabel('Wins')\n",
        "plt.ylabel('Number of losses')\n",
        "plt.show()"
      ]
    },
    {
      "cell_type": "code",
      "execution_count": 19,
      "metadata": {
        "colab": {
          "base_uri": "https://localhost:8080/",
          "height": 472
        },
        "id": "Te7af8tasAUg",
        "outputId": "24b7aaf5-d781-4aac-a584-766b7df24dcc"
      },
      "outputs": [
        {
          "output_type": "display_data",
          "data": {
            "text/plain": [
              "<Figure size 640x480 with 2 Axes>"
            ],
            "image/png": "[encoded data removed]"
          },
          "metadata": {}
        }
      ],
      "source": [
        "# Create a pivot table\n",
        "matchup_counts = league_table.pivot_table(index='Squad', columns='Rank', aggfunc='size', fill_value=0)\n",
        "\n",
        "# Create a heatmap\n",
        "sns.heatmap(matchup_counts,cmap='Blues',annot=False)\n",
        "plt.title('Heatmap of Rank vs. Squad')\n",
        "plt.xlabel('Rank')\n",
        "plt.ylabel('Squad')\n",
        "plt.xticks(rotation=0)\n",
        "plt.yticks(rotation=0)\n",
        "plt.show()"
      ]
    },
    {
      "cell_type": "code",
      "execution_count": 20,
      "metadata": {
        "colab": {
          "base_uri": "https://localhost:8080/",
          "height": 472
        },
        "id": "zNwCc-qwsAUg",
        "outputId": "35afd957-97d8-49bf-d413-3fc51bda6e05"
      },
      "outputs": [
        {
          "output_type": "display_data",
          "data": {
            "text/plain": [
              "<Figure size 640x480 with 2 Axes>"
            ],
            "image/png": "[encoded data removed]"
          },
          "metadata": {}
        }
      ],
      "source": [
        "# Create a pivot table\n",
        "matchup_counts = league_table.pivot_table(index='Wins', columns='Losses', aggfunc='size', fill_value=0)\n",
        "\n",
        "# Create a heatmap\n",
        "sns.heatmap(matchup_counts,cmap='Blues',annot=False)\n",
        "plt.title('Heatmap of Wins vs Losses')\n",
        "plt.xlabel('Wins')\n",
        "plt.ylabel('Losses')\n",
        "plt.xticks(rotation=0)\n",
        "plt.yticks(rotation=0)\n",
        "plt.show()"
      ]
    },
    {
      "cell_type": "code",
      "execution_count": 21,
      "metadata": {
        "colab": {
          "base_uri": "https://localhost:8080/",
          "height": 472
        },
        "id": "KXlnLfjrsAUg",
        "outputId": "2426a30f-9de4-4161-eea2-bfad7aab4256"
      },
      "outputs": [
        {
          "output_type": "display_data",
          "data": {
            "text/plain": [
              "<Figure size 640x480 with 2 Axes>"
            ],
            "image/png": "[encoded data removed]"
          },
          "metadata": {}
        }
      ],
      "source": [
        "# Create a pivot table\n",
        "matchup_counts = league_table.pivot_table(index='Wins', columns='Draws', aggfunc='size', fill_value=0)\n",
        "\n",
        "# Create a heatmap\n",
        "sns.heatmap(matchup_counts,cmap='Blues',annot=False)\n",
        "plt.title('Heatmap of Wins vs Draws')\n",
        "plt.xlabel('Wins')\n",
        "plt.ylabel('Draws')\n",
        "plt.xticks(rotation=0)\n",
        "plt.yticks(rotation=0)\n",
        "plt.show()"
      ]
    },
    {
      "cell_type": "code",
      "execution_count": 22,
      "metadata": {
        "colab": {
          "base_uri": "https://localhost:8080/",
          "height": 472
        },
        "id": "nweLaW4HsAUh",
        "outputId": "68c484ee-d087-470e-c5c5-99b95deb5234"
      },
      "outputs": [
        {
          "output_type": "display_data",
          "data": {
            "text/plain": [
              "<Figure size 640x480 with 2 Axes>"
            ],
            "image/png": "[encoded data removed]"
          },
          "metadata": {}
        }
      ],
      "source": [
        "# Create a pivot table\n",
        "matchup_counts = league_table.pivot_table(index='Losses', columns='Draws', aggfunc='size', fill_value=0)\n",
        "\n",
        "# Create a heatmap\n",
        "sns.heatmap(matchup_counts,cmap='Blues',annot=False)\n",
        "plt.title('Heatmap of Losses vs Draws')\n",
        "plt.xlabel('Losses')\n",
        "plt.ylabel('Draws')\n",
        "plt.xticks(rotation=0)\n",
        "plt.yticks(rotation=0)\n",
        "plt.show()"
      ]
    },
    {
      "cell_type": "code",
      "execution_count": 23,
      "metadata": {
        "colab": {
          "base_uri": "https://localhost:8080/",
          "height": 472
        },
        "id": "P2cK2F0ksAUh",
        "outputId": "bf3dba78-85b8-42b0-d4b5-2bf69bd1a889"
      },
      "outputs": [
        {
          "output_type": "display_data",
          "data": {
            "text/plain": [
              "<Figure size 640x480 with 2 Axes>"
            ],
            "image/png": "[encoded data removed]"
          },
          "metadata": {}
        }
      ],
      "source": [
        "# Create a pivot table\n",
        "matchup_counts = league_table.pivot_table(index='Matches Played', columns='Wins', aggfunc='size', fill_value=0)\n",
        "\n",
        "# Create a heatmap\n",
        "sns.heatmap(matchup_counts,cmap='Reds',annot=False)\n",
        "plt.title('Heatmap of Wins in Matches Played')\n",
        "plt.xlabel('Matches Played')\n",
        "plt.ylabel('Wins')\n",
        "plt.xticks(rotation=0)\n",
        "plt.yticks(rotation=0)\n",
        "plt.show()"
      ]
    },
    {
      "cell_type": "code",
      "execution_count": 24,
      "metadata": {
        "colab": {
          "base_uri": "https://localhost:8080/",
          "height": 472
        },
        "id": "gmJSMFjRsAUh",
        "outputId": "2aaa5589-46cf-4306-f72a-194bbcc3b11d"
      },
      "outputs": [
        {
          "output_type": "display_data",
          "data": {
            "text/plain": [
              "<Figure size 640x480 with 2 Axes>"
            ],
            "image/png": "[encoded data removed]"
          },
          "metadata": {}
        }
      ],
      "source": [
        "# Create a pivot table\n",
        "matchup_counts = league_table.pivot_table(index='Matches Played', columns='Losses', aggfunc='size', fill_value=0)\n",
        "\n",
        "# Create a heatmap\n",
        "sns.heatmap(matchup_counts,cmap='Reds',annot=False)\n",
        "plt.title('Heatmap ofLosses in Matches Played')\n",
        "plt.xlabel('Matches Played')\n",
        "plt.ylabel('Losses')\n",
        "plt.xticks(rotation=0)\n",
        "plt.yticks(rotation=0)\n",
        "plt.show()"
      ]
    },
    {
      "cell_type": "code",
      "execution_count": 25,
      "metadata": {
        "colab": {
          "base_uri": "https://localhost:8080/",
          "height": 472
        },
        "id": "hE7MrL8ysAUh",
        "outputId": "b3dd2dcd-4e72-45c8-cfd7-3056a6eec39f"
      },
      "outputs": [
        {
          "output_type": "display_data",
          "data": {
            "text/plain": [
              "<Figure size 640x480 with 2 Axes>"
            ],
            "image/png": "[encoded data removed]"
          },
          "metadata": {}
        }
      ],
      "source": [
        "# Create a pivot table\n",
        "matchup_counts = league_table.pivot_table(index='Matches Played', columns='Draws', aggfunc='size', fill_value=0)\n",
        "\n",
        "# Create a heatmap\n",
        "sns.heatmap(matchup_counts,cmap='Reds',annot=False)\n",
        "plt.title('Heatmap of Draws in Matches Played')\n",
        "plt.xlabel('Matches Played')\n",
        "plt.ylabel('Draws')\n",
        "plt.xticks(rotation=0)\n",
        "plt.yticks(rotation=0)\n",
        "plt.show()"
      ]
    },
    {
      "cell_type": "code",
      "execution_count": 26,
      "metadata": {
        "colab": {
          "base_uri": "https://localhost:8080/",
          "height": 472
        },
        "id": "1zfkEjahsAUi",
        "outputId": "f38e6fc2-46d1-4e2e-fbcc-b395ec83def5"
      },
      "outputs": [
        {
          "output_type": "display_data",
          "data": {
            "text/plain": [
              "<Figure size 640x480 with 2 Axes>"
            ],
            "image/png": "[encoded data removed]"
          },
          "metadata": {}
        }
      ],
      "source": [
        "# Create a pivot table\n",
        "matchup_counts = league_table.pivot_table(index='Goals For', columns='Wins', aggfunc='size', fill_value=0)\n",
        "\n",
        "# Create a heatmap\n",
        "sns.heatmap(matchup_counts,cmap='Reds',annot=False)\n",
        "plt.title('Heatmap of Wins in Goals For')\n",
        "plt.xlabel('Goals For')\n",
        "plt.ylabel('Wins')\n",
        "plt.xticks(rotation=0)\n",
        "plt.yticks(rotation=0)\n",
        "plt.show()"
      ]
    },
    {
      "cell_type": "code",
      "execution_count": 27,
      "metadata": {
        "colab": {
          "base_uri": "https://localhost:8080/",
          "height": 472
        },
        "id": "pnic102DsAUi",
        "outputId": "012ec19d-9d8b-4c7b-fdb7-e07b795b5618"
      },
      "outputs": [
        {
          "output_type": "display_data",
          "data": {
            "text/plain": [
              "<Figure size 640x480 with 2 Axes>"
            ],
            "image/png": "[encoded data removed]"
          },
          "metadata": {}
        }
      ],
      "source": [
        "# Create a pivot table\n",
        "matchup_counts = league_table.pivot_table(index='Goals For', columns='Losses', aggfunc='size', fill_value=0)\n",
        "\n",
        "# Create a heatmap\n",
        "sns.heatmap(matchup_counts,cmap='Reds',annot=False)\n",
        "plt.title('Heatmap of Losses in Goals For')\n",
        "plt.xlabel('Goals For')\n",
        "plt.ylabel('Losses')\n",
        "plt.xticks(rotation=0)\n",
        "plt.yticks(rotation=0)\n",
        "plt.show()"
      ]
    },
    {
      "cell_type": "code",
      "execution_count": 28,
      "metadata": {
        "id": "Wq2-XlFusAUi"
      },
      "outputs": [],
      "source": [
        "league_table_win_mean= league_table['Wins'].mean()"
      ]
    },
    {
      "cell_type": "code",
      "execution_count": 29,
      "metadata": {
        "colab": {
          "base_uri": "https://localhost:8080/"
        },
        "id": "lxHm1_dZsAUi",
        "outputId": "491d0d2a-fef3-423e-b19b-5fb41dc45163"
      },
      "outputs": [
        {
          "output_type": "execute_result",
          "data": {
            "text/plain": [
              "1.625"
            ]
          },
          "metadata": {},
          "execution_count": 29
        }
      ],
      "source": [
        "league_table_win_mean"
      ]
    },
    {
      "cell_type": "code",
      "execution_count": 30,
      "metadata": {
        "id": "MP4oH6OYsAUi"
      },
      "outputs": [],
      "source": [
        "league_table_loss_mean= league_table['Losses'].mean()"
      ]
    },
    {
      "cell_type": "code",
      "execution_count": 31,
      "metadata": {
        "colab": {
          "base_uri": "https://localhost:8080/"
        },
        "id": "GQPfEpnIsAUj",
        "outputId": "322be638-93b0-44f6-b159-1848857c1458"
      },
      "outputs": [
        {
          "output_type": "execute_result",
          "data": {
            "text/plain": [
              "1.625"
            ]
          },
          "metadata": {},
          "execution_count": 31
        }
      ],
      "source": [
        "league_table_loss_mean"
      ]
    },
    {
      "cell_type": "code",
      "execution_count": 32,
      "metadata": {
        "id": "bHG0rrd8sAUj"
      },
      "outputs": [],
      "source": [
        "league_table_draw_mean=league_table['Draws'].mean()"
      ]
    },
    {
      "cell_type": "code",
      "execution_count": 33,
      "metadata": {
        "colab": {
          "base_uri": "https://localhost:8080/"
        },
        "id": "NIC_OpXjsAUj",
        "outputId": "97edb7b0-3861-417a-8d4d-6c19c5407f9c"
      },
      "outputs": [
        {
          "output_type": "execute_result",
          "data": {
            "text/plain": [
              "1.0"
            ]
          },
          "metadata": {},
          "execution_count": 33
        }
      ],
      "source": [
        "league_table_draw_mean"
      ]
    },
    {
      "cell_type": "code",
      "execution_count": 34,
      "metadata": {
        "id": "1iq3RUrrsAUj"
      },
      "outputs": [],
      "source": [
        "import xgboost as xg\n",
        "from sklearn.metrics import mean_squared_error as MSE\n",
        "from sklearn.model_selection import train_test_split"
      ]
    },
    {
      "cell_type": "code",
      "execution_count": 36,
      "metadata": {
        "id": "ltGlZqIHs_1_"
      },
      "outputs": [],
      "source": [
        "league_table_for_xg_r=league_table.drop(['Rank','Squad','Top Team Scorer','Goalkeeper'],axis=1)"
      ]
    },
    {
      "cell_type": "code",
      "execution_count": 37,
      "metadata": {
        "id": "JKTYwaSLtyIv"
      },
      "outputs": [],
      "source": [
        "league_table_for_xg_r=league_table_for_xg_r.drop([2,5,10,19])"
      ]
    },
    {
      "cell_type": "code",
      "execution_count": 38,
      "metadata": {
        "id": "DP75ei1LsTXX"
      },
      "outputs": [],
      "source": [
        "X, y = league_table_for_xg_r.iloc[:, :-1], league_table_for_xg_r.iloc[:, -1]"
      ]
    },
    {
      "cell_type": "code",
      "execution_count": 39,
      "metadata": {
        "id": "EhML_6s5sjIo"
      },
      "outputs": [],
      "source": [
        "train_X, test_X, train_y, test_y = train_test_split(X, y,\n",
        "                      test_size = 0.3, random_state = 123)\n"
      ]
    },
    {
      "cell_type": "code",
      "execution_count": 43,
      "metadata": {
        "id": "CBk7rGfTsojB"
      },
      "outputs": [],
      "source": [
        "xgb_r = xg.XGBRegressor(objective ='reg:linear',\n",
        "                  n_estimators = 10, seed = 123)"
      ]
    },
    {
      "cell_type": "code",
      "execution_count": 44,
      "metadata": {
        "colab": {
          "base_uri": "https://localhost:8080/"
        },
        "id": "kxnBVJ8zssH9",
        "outputId": "f965de71-6c32-4471-8020-8007126c784d"
      },
      "outputs": [
        {
          "output_type": "stream",
          "name": "stdout",
          "text": [
            "RMSE :  0.713821\n"
          ]
        },
        {
          "output_type": "stream",
          "name": "stderr",
          "text": [
            "/usr/local/lib/python3.10/dist-packages/xgboost/core.py:160: UserWarning: [05:32:49] WARNING: /workspace/src/objective/regression_obj.cu:209: reg:linear is now deprecated in favor of reg:squarederror.\n",
            "  warnings.warn(smsg, UserWarning)\n"
          ]
        }
      ],
      "source": [
        "# Fitting the model\n",
        "xgb_r.fit(train_X, train_y)\n",
        "\n",
        "# Predict the model\n",
        "pred = xgb_r.predict(test_X)\n",
        "\n",
        "# RMSE Computation\n",
        "rmse = np.sqrt(MSE(test_y, pred))\n",
        "print(\"RMSE : % f\" %(rmse))"
      ]
    },
    {
      "cell_type": "code",
      "execution_count": 45,
      "metadata": {
        "id": "E-YhP1oLsuw_"
      },
      "outputs": [],
      "source": [
        "residuals = test_y - pred"
      ]
    },
    {
      "cell_type": "code",
      "source": [
        "import matplotlib.pyplot as plt\n",
        "\n",
        "plt.figure(figsize=(10, 6))\n",
        "plt.scatter(residuals,pred)\n",
        "plt.plot([y.min(), y.max()], [y.min(), y.max()], 'r--')  # Line for perfect predictions\n",
        "plt.title('Residuals VS Pred')\n",
        "plt.xlabel('Pred')\n",
        "plt.ylabel('Residuals')\n",
        "plt.show()"
      ],
      "metadata": {
        "colab": {
          "base_uri": "https://localhost:8080/",
          "height": 564
        },
        "id": "05BpB4NFLwIg",
        "outputId": "ab997184-f779-4e91-dd0b-64b66a93b0aa"
      },
      "execution_count": 46,
      "outputs": [
        {
          "output_type": "display_data",
          "data": {
            "text/plain": [
              "<Figure size 1000x600 with 1 Axes>"
            ],
            "image/png": "[encoded data removed]"
          },
          "metadata": {}
        }
      ]
    },
    {
      "cell_type": "code",
      "source": [
        "league_table.info()"
      ],
      "metadata": {
        "colab": {
          "base_uri": "https://localhost:8080/"
        },
        "id": "-yweZYP0MEIY",
        "outputId": "49a6d26c-613f-4142-9959-f1344f9978c9"
      },
      "execution_count": 47,
      "outputs": [
        {
          "output_type": "stream",
          "name": "stdout",
          "text": [
            "<class 'pandas.core.frame.DataFrame'>\n",
            "RangeIndex: 28 entries, 0 to 27\n",
            "Data columns (total 16 columns):\n",
            " #   Column              Non-Null Count  Dtype  \n",
            "---  ------              --------------  -----  \n",
            " 0   Rank                24 non-null     object \n",
            " 1   Squad               24 non-null     object \n",
            " 2   Matches Played      24 non-null     float64\n",
            " 3   Wins                24 non-null     float64\n",
            " 4   Draws               24 non-null     float64\n",
            " 5   Losses              24 non-null     float64\n",
            " 6   Goals For           24 non-null     float64\n",
            " 7   Goals Against       24 non-null     float64\n",
            " 8   Goal Diff.          24 non-null     float64\n",
            " 9   Pts                 24 non-null     float64\n",
            " 10  exp. Goals          24 non-null     float64\n",
            " 11  exp. Goals Allowed  24 non-null     float64\n",
            " 12  exp. Goals Diff.    24 non-null     float64\n",
            " 13  xGD/90              24 non-null     float64\n",
            " 14  Top Team Scorer     24 non-null     object \n",
            " 15  Goalkeeper          24 non-null     object \n",
            "dtypes: float64(12), object(4)\n",
            "memory usage: 3.6+ KB\n"
          ]
        }
      ]
    },
    {
      "cell_type": "code",
      "source": [
        "league_table_numerical = league_table.drop(['Rank','Squad','Top Team Scorer','Goalkeeper'],axis=1)"
      ],
      "metadata": {
        "id": "4YlJcxfoMYr7"
      },
      "execution_count": 49,
      "outputs": []
    },
    {
      "cell_type": "code",
      "source": [
        "league_table_numerical.to_csv(\"League_table2021.csv\")"
      ],
      "metadata": {
        "id": "c7R4GY3iNHj3"
      },
      "execution_count": 50,
      "outputs": []
    },
    {
      "cell_type": "code",
      "source": [],
      "metadata": {
        "id": "IKnQZ99xNPpJ"
      },
      "execution_count": null,
      "outputs": []
    }
  ],
  "metadata": {
    "colab": {
      "provenance": []
    },
    "kernelspec": {
      "display_name": "Python 3",
      "language": "python",
      "name": "python3"
    },
    "language_info": {
      "codemirror_mode": {
        "name": "ipython",
        "version": 3
      },
      "file_extension": ".py",
      "mimetype": "text/x-python",
      "name": "python",
      "nbconvert_exporter": "python",
      "pygments_lexer": "ipython3",
      "version": "3.12.4"
    }
  },
  "nbformat": 4,
  "nbformat_minor": 0
}